{
 "cells": [
  {
   "cell_type": "markdown",
   "metadata": {},
   "source": [
    "# PROJECT 1 - FIRST NOTEBOOK "
   ]
  },
  {
   "cell_type": "markdown",
   "metadata": {},
   "source": [
    "**Table of Content** \n",
    "\n",
    "1. Business Understanding\n",
    "2. Data Understanding\n",
    "3. Data Preparation\n",
    "\n",
    "\n",
    "The main objective of this notebook is to represent the current status of the Maintenance & Repair division from the OGC (Oil, Gas and Chemicals) business line in SGS Chile, seeking to identify the main variables and the type of data that compose them, in order to extract preliminary information. \n",
    "\n",
    "[SGS](https://www.sgs.cl/en/) is one of the world's leading inspection, verification, testing and certification company. In Chile, the company is divided in four branches: SGS Chile, SGS Minerals, SGS Siga and SGS Academy; where each one of them is in charge of executing specific process and services. \n",
    "\n",
    "In order to achieve this purpose, the first three stages of the CRISP-DM methodology will be applied.The final result will be a clean database, that will be ready to be processed.\n",
    "\n",
    "Due to the company policy and because it is real data, the information used here is two years old."
   ]
  },
  {
   "cell_type": "markdown",
   "metadata": {},
   "source": [
    "# I. Business Understanding"
   ]
  },
  {
   "cell_type": "markdown",
   "metadata": {},
   "source": [
    "The scope of this project will be reduced only to the Maintenance & Repair (M&R) division which belongs to the Oil, Gas and Chemicals business line (OGC)"
   ]
  },
  {
   "cell_type": "code",
   "execution_count": 144,
   "metadata": {},
   "outputs": [],
   "source": [
    "# Import libraries\n",
    "import pickle, datetime, numpy as np, pandas as pd, matplotlib.pyplot as plt\n",
    "import seaborn as sns\n",
    "from collections import Counter\n",
    "from IPython.display import Image\n",
    "%matplotlib inline\n",
    "#pd.reset_option('^display.', silent=True)"
   ]
  },
  {
   "cell_type": "code",
   "execution_count": 145,
   "metadata": {},
   "outputs": [
    {
     "data": {
      "image/png": "[encoded data removed]",
      "text/plain": [
       "<IPython.core.display.Image object>"
      ]
     },
     "execution_count": 145,
     "metadata": {
      "image/png": {
       "height": 600,
       "width": 600
      }
     },
     "output_type": "execute_result"
    }
   ],
   "source": [
    "# The Maintenance & Repair (M&R) division in SGS Chile\n",
    "Image(filename='images/OGC_SGS.png', width=600, height=600)"
   ]
  },
  {
   "cell_type": "markdown",
   "metadata": {},
   "source": [
    "The Maintenance & Repair (M&R) area is responsible for carrying out repairs, adjustments, installations and tests to the different components and equipment at the many service stations that are associated to the OGC business line, mostly gas stations.\n",
    "\n",
    "To ensure proper control of activities, the M&R section uses a database that collects the details of each tasks performed by the workers."
   ]
  },
  {
   "cell_type": "code",
   "execution_count": 146,
   "metadata": {},
   "outputs": [
    {
     "data": {
      "text/html": [
       "<div>\n",
       "<style scoped>\n",
       "    .dataframe tbody tr th:only-of-type {\n",
       "        vertical-align: middle;\n",
       "    }\n",
       "\n",
       "    .dataframe tbody tr th {\n",
       "        vertical-align: top;\n",
       "    }\n",
       "\n",
       "    .dataframe thead th {\n",
       "        text-align: right;\n",
       "    }\n",
       "</style>\n",
       "<table border=\"1\" class=\"dataframe\">\n",
       "  <thead>\n",
       "    <tr style=\"text-align: right;\">\n",
       "      <th></th>\n",
       "      <th>Recepción OT</th>\n",
       "      <th>Hora Recep.</th>\n",
       "      <th>OT</th>\n",
       "      <th>Estacion</th>\n",
       "      <th>Tipo Estación</th>\n",
       "      <th>Ubicación Técnica</th>\n",
       "      <th>Origen del Servicio</th>\n",
       "      <th>Region</th>\n",
       "      <th>Prioridad SGS</th>\n",
       "      <th>Prioridad Cliente</th>\n",
       "      <th>...</th>\n",
       "      <th>Repuesto</th>\n",
       "      <th>Cnt</th>\n",
       "      <th>Monto</th>\n",
       "      <th>Total</th>\n",
       "      <th>Ltr 93</th>\n",
       "      <th>Ltr 95</th>\n",
       "      <th>Ltr 97</th>\n",
       "      <th>Ltr D</th>\n",
       "      <th>Ltr K</th>\n",
       "      <th>Ind. Gestion</th>\n",
       "    </tr>\n",
       "  </thead>\n",
       "  <tbody>\n",
       "    <tr>\n",
       "      <th>0</th>\n",
       "      <td>30/08/2019</td>\n",
       "      <td>17:18:00</td>\n",
       "      <td>3008190033</td>\n",
       "      <td>Buses Metropolitana</td>\n",
       "      <td>PUNTO INDUSTRIAL</td>\n",
       "      <td>2256194</td>\n",
       "      <td>Contrato Fuel System Enex</td>\n",
       "      <td>13°</td>\n",
       "      <td>Normal 24 Horas</td>\n",
       "      <td>Normal 24 Horas</td>\n",
       "      <td>...</td>\n",
       "      <td>NaN</td>\n",
       "      <td>NaN</td>\n",
       "      <td>NaN</td>\n",
       "      <td>NaN</td>\n",
       "      <td>0.0</td>\n",
       "      <td>0.0</td>\n",
       "      <td>0.0</td>\n",
       "      <td>0.0</td>\n",
       "      <td>0.0</td>\n",
       "      <td>NaN</td>\n",
       "    </tr>\n",
       "    <tr>\n",
       "      <th>1</th>\n",
       "      <td>30/08/2019</td>\n",
       "      <td>17:17:00</td>\n",
       "      <td>3008190024</td>\n",
       "      <td>INVERSIONES INGERIASUR LTDA.</td>\n",
       "      <td>ESTACION DE SERVICIO</td>\n",
       "      <td>359</td>\n",
       "      <td>Contrato Fuel System Enex</td>\n",
       "      <td>9°</td>\n",
       "      <td>Normal 24 Horas</td>\n",
       "      <td>Normal 24 Horas</td>\n",
       "      <td>...</td>\n",
       "      <td>NaN</td>\n",
       "      <td>NaN</td>\n",
       "      <td>NaN</td>\n",
       "      <td>NaN</td>\n",
       "      <td>0.0</td>\n",
       "      <td>0.0</td>\n",
       "      <td>0.0</td>\n",
       "      <td>0.0</td>\n",
       "      <td>0.0</td>\n",
       "      <td>NaN</td>\n",
       "    </tr>\n",
       "    <tr>\n",
       "      <th>2</th>\n",
       "      <td>30/08/2019</td>\n",
       "      <td>16:52:00</td>\n",
       "      <td>2606190074</td>\n",
       "      <td>Tingaro Spa.</td>\n",
       "      <td>ESTACION DE SERVICIO</td>\n",
       "      <td>553</td>\n",
       "      <td>Contrato Fuel System Enex</td>\n",
       "      <td>13°</td>\n",
       "      <td>Normal 48 Horas</td>\n",
       "      <td>Normal 48 Horas</td>\n",
       "      <td>...</td>\n",
       "      <td>NaN</td>\n",
       "      <td>NaN</td>\n",
       "      <td>NaN</td>\n",
       "      <td>NaN</td>\n",
       "      <td>0.0</td>\n",
       "      <td>0.0</td>\n",
       "      <td>0.0</td>\n",
       "      <td>0.0</td>\n",
       "      <td>0.0</td>\n",
       "      <td>NaN</td>\n",
       "    </tr>\n",
       "    <tr>\n",
       "      <th>3</th>\n",
       "      <td>30/08/2019</td>\n",
       "      <td>16:49:00</td>\n",
       "      <td>3008190043</td>\n",
       "      <td>INVERSIONES GLOBAL LIMITADA</td>\n",
       "      <td>ESTACION DE SERVICIO</td>\n",
       "      <td>660</td>\n",
       "      <td>Contrato Fuel System Enex</td>\n",
       "      <td>9°</td>\n",
       "      <td>Normal 24 Horas</td>\n",
       "      <td>Normal 24 Horas</td>\n",
       "      <td>...</td>\n",
       "      <td>NaN</td>\n",
       "      <td>NaN</td>\n",
       "      <td>NaN</td>\n",
       "      <td>NaN</td>\n",
       "      <td>0.0</td>\n",
       "      <td>0.0</td>\n",
       "      <td>0.0</td>\n",
       "      <td>0.0</td>\n",
       "      <td>0.0</td>\n",
       "      <td>NaN</td>\n",
       "    </tr>\n",
       "    <tr>\n",
       "      <th>4</th>\n",
       "      <td>30/08/2019</td>\n",
       "      <td>16:48:00</td>\n",
       "      <td>2908190028</td>\n",
       "      <td>Comercial Antuco Ltda.</td>\n",
       "      <td>ESTACION DE SERVICIO</td>\n",
       "      <td>680</td>\n",
       "      <td>Contrato Fuel System Enex</td>\n",
       "      <td>5°</td>\n",
       "      <td>Normal 24 Horas</td>\n",
       "      <td>Normal 24 Horas</td>\n",
       "      <td>...</td>\n",
       "      <td>NaN</td>\n",
       "      <td>NaN</td>\n",
       "      <td>NaN</td>\n",
       "      <td>NaN</td>\n",
       "      <td>0.0</td>\n",
       "      <td>0.0</td>\n",
       "      <td>0.0</td>\n",
       "      <td>0.0</td>\n",
       "      <td>0.0</td>\n",
       "      <td>NaN</td>\n",
       "    </tr>\n",
       "  </tbody>\n",
       "</table>\n",
       "<p>5 rows × 34 columns</p>\n",
       "</div>"
      ],
      "text/plain": [
       "  Recepción OT Hora Recep.          OT                      Estacion  \\\n",
       "0   30/08/2019    17:18:00  3008190033           Buses Metropolitana   \n",
       "1   30/08/2019    17:17:00  3008190024  INVERSIONES INGERIASUR LTDA.   \n",
       "2   30/08/2019    16:52:00  2606190074                  Tingaro Spa.   \n",
       "3   30/08/2019    16:49:00  3008190043   INVERSIONES GLOBAL LIMITADA   \n",
       "4   30/08/2019    16:48:00  2908190028        Comercial Antuco Ltda.   \n",
       "\n",
       "          Tipo Estación Ubicación Técnica        Origen del Servicio Region  \\\n",
       "0      PUNTO INDUSTRIAL           2256194  Contrato Fuel System Enex    13°   \n",
       "1  ESTACION DE SERVICIO               359  Contrato Fuel System Enex     9°   \n",
       "2  ESTACION DE SERVICIO               553  Contrato Fuel System Enex    13°   \n",
       "3  ESTACION DE SERVICIO               660  Contrato Fuel System Enex     9°   \n",
       "4  ESTACION DE SERVICIO               680  Contrato Fuel System Enex     5°   \n",
       "\n",
       "     Prioridad SGS Prioridad Cliente  ... Repuesto Cnt Monto Total Ltr 93  \\\n",
       "0  Normal 24 Horas   Normal 24 Horas  ...      NaN NaN   NaN   NaN    0.0   \n",
       "1  Normal 24 Horas   Normal 24 Horas  ...      NaN NaN   NaN   NaN    0.0   \n",
       "2  Normal 48 Horas   Normal 48 Horas  ...      NaN NaN   NaN   NaN    0.0   \n",
       "3  Normal 24 Horas   Normal 24 Horas  ...      NaN NaN   NaN   NaN    0.0   \n",
       "4  Normal 24 Horas   Normal 24 Horas  ...      NaN NaN   NaN   NaN    0.0   \n",
       "\n",
       "  Ltr 95 Ltr 97  Ltr D  Ltr K Ind. Gestion  \n",
       "0    0.0    0.0    0.0    0.0          NaN  \n",
       "1    0.0    0.0    0.0    0.0          NaN  \n",
       "2    0.0    0.0    0.0    0.0          NaN  \n",
       "3    0.0    0.0    0.0    0.0          NaN  \n",
       "4    0.0    0.0    0.0    0.0          NaN  \n",
       "\n",
       "[5 rows x 34 columns]"
      ]
     },
     "execution_count": 146,
     "metadata": {},
     "output_type": "execute_result"
    }
   ],
   "source": [
    "# Import Data Frame \n",
    "df = pd.read_excel(\"List_Report_Gestion_30082019061320.xls\")\n",
    "df.head()"
   ]
  },
  {
   "cell_type": "code",
   "execution_count": 147,
   "metadata": {},
   "outputs": [
    {
     "data": {
      "text/plain": [
       "(23258, 34)"
      ]
     },
     "execution_count": 147,
     "metadata": {},
     "output_type": "execute_result"
    }
   ],
   "source": [
    "# Shape of the DF\n",
    "df.shape"
   ]
  },
  {
   "cell_type": "code",
   "execution_count": 148,
   "metadata": {},
   "outputs": [
    {
     "data": {
      "text/plain": [
       "Index(['Recepción OT', 'Hora Recep.', 'OT', 'Estacion', 'Tipo Estación',\n",
       "       'Ubicación Técnica', 'Origen del Servicio', 'Region', 'Prioridad SGS',\n",
       "       'Prioridad Cliente', 'Tecnico Asignado', 'Estado OT', 'Condición',\n",
       "       'Tipo de Falla', 'Observación', 'Requerimiento', 'Técnico Cierre',\n",
       "       'TDR', 'TDS', 'Fecha Arribo', 'Hora Arribo', 'Fecha Cierre',\n",
       "       'Hora Cierre', 'Cod. Repuesto', 'Repuesto', 'Cnt', 'Monto', 'Total',\n",
       "       'Ltr 93', 'Ltr 95', 'Ltr 97', 'Ltr D', 'Ltr K', 'Ind. Gestion'],\n",
       "      dtype='object')"
      ]
     },
     "execution_count": 148,
     "metadata": {},
     "output_type": "execute_result"
    }
   ],
   "source": [
    "# Get column names\n",
    "df.columns"
   ]
  },
  {
   "cell_type": "markdown",
   "metadata": {},
   "source": [
    "To get a better undestanding about what the data means in *df_total*, the general process behind each record is described below:"
   ]
  },
  {
   "cell_type": "code",
   "execution_count": 149,
   "metadata": {},
   "outputs": [
    {
     "data": {
      "image/png": "[encoded data removed]",
      "text/plain": [
       "<IPython.core.display.Image object>"
      ]
     },
     "execution_count": 149,
     "metadata": {
      "image/png": {
       "height": 800,
       "width": 800
      }
     },
     "output_type": "execute_result"
    }
   ],
   "source": [
    "# Task flow in M&R\n",
    "Image(filename='images/MYR_TASKFLOW.png', width=800, height=800)"
   ]
  },
  {
   "cell_type": "markdown",
   "metadata": {},
   "source": [
    "1. Problem: Service stations detect a problem or they noticed that maintenance is needed\n",
    "2. Work Order (OT): Because of the requirement, a work order (Órden de Trabajo in Spanish) is issued to M&R\n",
    "3. OT Reception: M&R analyze and prioritize the OT\n",
    "4. Task Assignment: A qualified technician is chosen for working on the task according to his availability\n",
    "5. Execution: Time the worker spends on the task\n",
    "6. Comments/Observations: Brief description of the task and what was done. The technician must do this step"
   ]
  },
  {
   "cell_type": "markdown",
   "metadata": {},
   "source": [
    "In order to get a better understanding of the data, we will analyze the table based on three main questions \n",
    "\n",
    "<div class=\"alert alert-success\" style=\"margin: 20px\">\n",
    "<b>Business Questions: </b><br>\n",
    "    1.- What are the periods when M&R receives the most number of work orders (OT)? Is there a peak?<br>\n",
    "    2.- How long does it take to attend the requests? and how much time does a worker spend fixing the issues?<br>\n",
    "    3.- What are the most common type of failures or issues that require attention?  \n",
    "</div>"
   ]
  },
  {
   "cell_type": "code",
   "execution_count": 150,
   "metadata": {},
   "outputs": [],
   "source": [
    "# Questions\n",
    "# 1.- Rango de horas y dias\n",
    "# 2.- Estaciones más solicitdas, región y nombre de técnicos\n",
    "# 3.- Extraer info de los campos de texto no estructurados"
   ]
  },
  {
   "cell_type": "code",
   "execution_count": 151,
   "metadata": {},
   "outputs": [],
   "source": [
    "# Questions\n",
    "# 1.- Cantidad de OT por periodos de tiempo\n",
    "# 2.- Tiempos de trabajo \n",
    "# 3.- Tipos de falla más comunes (Por Estación, Region, y trabajador)"
   ]
  },
  {
   "cell_type": "markdown",
   "metadata": {},
   "source": [
    "# II. Data Understanding"
   ]
  },
  {
   "cell_type": "code",
   "execution_count": 152,
   "metadata": {},
   "outputs": [
    {
     "data": {
      "text/plain": [
       "(23258, 34)"
      ]
     },
     "execution_count": 152,
     "metadata": {},
     "output_type": "execute_result"
    }
   ],
   "source": [
    "df.shape"
   ]
  },
  {
   "cell_type": "markdown",
   "metadata": {},
   "source": [
    "The following is a brief description of each of the df_total columns"
   ]
  },
  {
   "cell_type": "code",
   "execution_count": 153,
   "metadata": {},
   "outputs": [
    {
     "data": {
      "text/html": [
       "<div>\n",
       "<style scoped>\n",
       "    .dataframe tbody tr th:only-of-type {\n",
       "        vertical-align: middle;\n",
       "    }\n",
       "\n",
       "    .dataframe tbody tr th {\n",
       "        vertical-align: top;\n",
       "    }\n",
       "\n",
       "    .dataframe thead th {\n",
       "        text-align: right;\n",
       "    }\n",
       "</style>\n",
       "<table border=\"1\" class=\"dataframe\">\n",
       "  <thead>\n",
       "    <tr style=\"text-align: right;\">\n",
       "      <th></th>\n",
       "      <th>Columna</th>\n",
       "      <th>Descripción</th>\n",
       "      <th>Desc_Translated</th>\n",
       "    </tr>\n",
       "  </thead>\n",
       "  <tbody>\n",
       "    <tr>\n",
       "      <th>0</th>\n",
       "      <td>Recepción OT</td>\n",
       "      <td>Fecha en que la OT ingresa al sistema</td>\n",
       "      <td>Date the OT enters the system</td>\n",
       "    </tr>\n",
       "    <tr>\n",
       "      <th>1</th>\n",
       "      <td>Hora Recep.</td>\n",
       "      <td>Hora en que la OT ingresa al sistema</td>\n",
       "      <td>Time the OT enters the system</td>\n",
       "    </tr>\n",
       "    <tr>\n",
       "      <th>2</th>\n",
       "      <td>OT</td>\n",
       "      <td>Código de OT</td>\n",
       "      <td>OT Code</td>\n",
       "    </tr>\n",
       "    <tr>\n",
       "      <th>3</th>\n",
       "      <td>Estacion</td>\n",
       "      <td>Nombre de estación de servicio</td>\n",
       "      <td>Service station name</td>\n",
       "    </tr>\n",
       "    <tr>\n",
       "      <th>4</th>\n",
       "      <td>Tipo Estación</td>\n",
       "      <td>desc_translated</td>\n",
       "      <td>Type of service station</td>\n",
       "    </tr>\n",
       "    <tr>\n",
       "      <th>5</th>\n",
       "      <td>Ubicación Técnica</td>\n",
       "      <td>Localización de la estación de servicio</td>\n",
       "      <td>Service Station Location</td>\n",
       "    </tr>\n",
       "    <tr>\n",
       "      <th>6</th>\n",
       "      <td>Origen del Servicio</td>\n",
       "      <td>Rubro de la estación</td>\n",
       "      <td>Field of the station</td>\n",
       "    </tr>\n",
       "    <tr>\n",
       "      <th>7</th>\n",
       "      <td>Region</td>\n",
       "      <td>Región geográfica en donde está la estación</td>\n",
       "      <td>Geographic region where the station is located</td>\n",
       "    </tr>\n",
       "    <tr>\n",
       "      <th>8</th>\n",
       "      <td>Prioridad SGS</td>\n",
       "      <td>Nivel de urgencia de la OT de acuerdo a M&amp;R</td>\n",
       "      <td>OT urgency level according to M&amp;R</td>\n",
       "    </tr>\n",
       "    <tr>\n",
       "      <th>9</th>\n",
       "      <td>Prioridad Cliente</td>\n",
       "      <td>Nivel de urgencia de la OT de acuerdo al cliente</td>\n",
       "      <td>OT urgency level according to the client</td>\n",
       "    </tr>\n",
       "    <tr>\n",
       "      <th>10</th>\n",
       "      <td>Tecnico Asignado</td>\n",
       "      <td>Nombre del técnico asignado</td>\n",
       "      <td>Name of the assigned technician</td>\n",
       "    </tr>\n",
       "    <tr>\n",
       "      <th>11</th>\n",
       "      <td>Estado OT</td>\n",
       "      <td>Estado del cumplimiento de la OT</td>\n",
       "      <td>OT completion status</td>\n",
       "    </tr>\n",
       "    <tr>\n",
       "      <th>12</th>\n",
       "      <td>Condición</td>\n",
       "      <td>Estado de la asignación del trabajo</td>\n",
       "      <td>Work assignment status</td>\n",
       "    </tr>\n",
       "    <tr>\n",
       "      <th>13</th>\n",
       "      <td>Tipo de Falla</td>\n",
       "      <td>Tipo de falla</td>\n",
       "      <td>Type of failure</td>\n",
       "    </tr>\n",
       "    <tr>\n",
       "      <th>14</th>\n",
       "      <td>Observación</td>\n",
       "      <td>Detalles del trabajo terminado</td>\n",
       "      <td>Details of work completed</td>\n",
       "    </tr>\n",
       "    <tr>\n",
       "      <th>15</th>\n",
       "      <td>Requerimiento</td>\n",
       "      <td>Detalles del problema que requiere ser solucio...</td>\n",
       "      <td>Details of the problem that needs to be fixed.</td>\n",
       "    </tr>\n",
       "    <tr>\n",
       "      <th>16</th>\n",
       "      <td>Técnico Cierre</td>\n",
       "      <td>Nombre del técnico que concluye el trabajo</td>\n",
       "      <td>Name of the technician that concludes the job</td>\n",
       "    </tr>\n",
       "    <tr>\n",
       "      <th>17</th>\n",
       "      <td>TDR</td>\n",
       "      <td>KPI</td>\n",
       "      <td>KPI</td>\n",
       "    </tr>\n",
       "    <tr>\n",
       "      <th>18</th>\n",
       "      <td>TDS</td>\n",
       "      <td>KPI</td>\n",
       "      <td>KPI</td>\n",
       "    </tr>\n",
       "    <tr>\n",
       "      <th>19</th>\n",
       "      <td>Fecha Arribo</td>\n",
       "      <td>Fecha en que técnico asignado llega al lugar d...</td>\n",
       "      <td>Date the assigned technician arrives at job site</td>\n",
       "    </tr>\n",
       "    <tr>\n",
       "      <th>20</th>\n",
       "      <td>Hora Arribo</td>\n",
       "      <td>Hora en que técnico asignado llega al lugar de...</td>\n",
       "      <td>Time the assigned technician arrives at job site</td>\n",
       "    </tr>\n",
       "    <tr>\n",
       "      <th>21</th>\n",
       "      <td>Fecha Cierre</td>\n",
       "      <td>Fecha en que técnico asignado concluye el trabajo</td>\n",
       "      <td>Date the assigned technician completes work</td>\n",
       "    </tr>\n",
       "    <tr>\n",
       "      <th>22</th>\n",
       "      <td>Hora Cierre</td>\n",
       "      <td>Hora en que técnico asignado concluye el trabajo</td>\n",
       "      <td>Time the assigned technician completes work</td>\n",
       "    </tr>\n",
       "    <tr>\n",
       "      <th>23</th>\n",
       "      <td>Cod. Repuesto</td>\n",
       "      <td>Código de repuesto</td>\n",
       "      <td>Spare part code</td>\n",
       "    </tr>\n",
       "    <tr>\n",
       "      <th>24</th>\n",
       "      <td>Repuesto</td>\n",
       "      <td>Nombre del repuesto</td>\n",
       "      <td>Spare part name</td>\n",
       "    </tr>\n",
       "    <tr>\n",
       "      <th>25</th>\n",
       "      <td>Cnt</td>\n",
       "      <td>Cantidad necesitada del repuesto</td>\n",
       "      <td>Spare part quantity required</td>\n",
       "    </tr>\n",
       "    <tr>\n",
       "      <th>26</th>\n",
       "      <td>Monto</td>\n",
       "      <td>Precio del repuesto</td>\n",
       "      <td>Spare part price</td>\n",
       "    </tr>\n",
       "    <tr>\n",
       "      <th>27</th>\n",
       "      <td>Total</td>\n",
       "      <td>Precio total</td>\n",
       "      <td>Total price</td>\n",
       "    </tr>\n",
       "    <tr>\n",
       "      <th>28</th>\n",
       "      <td>Ltr 93</td>\n",
       "      <td>Estanque gas 93</td>\n",
       "      <td>Gas tank 93</td>\n",
       "    </tr>\n",
       "    <tr>\n",
       "      <th>29</th>\n",
       "      <td>Ltr 95</td>\n",
       "      <td>Estanque gas 95</td>\n",
       "      <td>Gas tank 95</td>\n",
       "    </tr>\n",
       "    <tr>\n",
       "      <th>30</th>\n",
       "      <td>Ltr 97</td>\n",
       "      <td>Estanque gas 97</td>\n",
       "      <td>Gas tank 97</td>\n",
       "    </tr>\n",
       "    <tr>\n",
       "      <th>31</th>\n",
       "      <td>Ltr D</td>\n",
       "      <td>Estanque Diesel</td>\n",
       "      <td>Diesel tank</td>\n",
       "    </tr>\n",
       "    <tr>\n",
       "      <th>32</th>\n",
       "      <td>Ltr K</td>\n",
       "      <td>Estanque gas Kerosene</td>\n",
       "      <td>Kerosene gas tank</td>\n",
       "    </tr>\n",
       "    <tr>\n",
       "      <th>33</th>\n",
       "      <td>Ind. Gestion</td>\n",
       "      <td>Indicador de gestión</td>\n",
       "      <td>Management indicator</td>\n",
       "    </tr>\n",
       "  </tbody>\n",
       "</table>\n",
       "</div>"
      ],
      "text/plain": [
       "                Columna                                        Descripción  \\\n",
       "0          Recepción OT              Fecha en que la OT ingresa al sistema   \n",
       "1           Hora Recep.               Hora en que la OT ingresa al sistema   \n",
       "2                    OT                                       Código de OT   \n",
       "3              Estacion                     Nombre de estación de servicio   \n",
       "4         Tipo Estación                                    desc_translated   \n",
       "5     Ubicación Técnica            Localización de la estación de servicio   \n",
       "6   Origen del Servicio                               Rubro de la estación   \n",
       "7                Region        Región geográfica en donde está la estación   \n",
       "8         Prioridad SGS        Nivel de urgencia de la OT de acuerdo a M&R   \n",
       "9     Prioridad Cliente   Nivel de urgencia de la OT de acuerdo al cliente   \n",
       "10     Tecnico Asignado                        Nombre del técnico asignado   \n",
       "11            Estado OT                   Estado del cumplimiento de la OT   \n",
       "12            Condición                Estado de la asignación del trabajo   \n",
       "13        Tipo de Falla                                      Tipo de falla   \n",
       "14          Observación                     Detalles del trabajo terminado   \n",
       "15        Requerimiento  Detalles del problema que requiere ser solucio...   \n",
       "16       Técnico Cierre         Nombre del técnico que concluye el trabajo   \n",
       "17                  TDR                                                KPI   \n",
       "18                  TDS                                                KPI   \n",
       "19         Fecha Arribo  Fecha en que técnico asignado llega al lugar d...   \n",
       "20          Hora Arribo  Hora en que técnico asignado llega al lugar de...   \n",
       "21         Fecha Cierre  Fecha en que técnico asignado concluye el trabajo   \n",
       "22          Hora Cierre   Hora en que técnico asignado concluye el trabajo   \n",
       "23        Cod. Repuesto                                 Código de repuesto   \n",
       "24             Repuesto                                Nombre del repuesto   \n",
       "25                  Cnt                   Cantidad necesitada del repuesto   \n",
       "26                Monto                                Precio del repuesto   \n",
       "27                Total                                       Precio total   \n",
       "28               Ltr 93                                    Estanque gas 93   \n",
       "29               Ltr 95                                    Estanque gas 95   \n",
       "30               Ltr 97                                    Estanque gas 97   \n",
       "31                Ltr D                                    Estanque Diesel   \n",
       "32                Ltr K                              Estanque gas Kerosene   \n",
       "33         Ind. Gestion                               Indicador de gestión   \n",
       "\n",
       "                                     Desc_Translated  \n",
       "0                      Date the OT enters the system  \n",
       "1                      Time the OT enters the system  \n",
       "2                                            OT Code  \n",
       "3                               Service station name  \n",
       "4                           Type of service station   \n",
       "5                           Service Station Location  \n",
       "6                               Field of the station  \n",
       "7     Geographic region where the station is located  \n",
       "8                  OT urgency level according to M&R  \n",
       "9           OT urgency level according to the client  \n",
       "10                   Name of the assigned technician  \n",
       "11                              OT completion status  \n",
       "12                            Work assignment status  \n",
       "13                                   Type of failure  \n",
       "14                         Details of work completed  \n",
       "15    Details of the problem that needs to be fixed.  \n",
       "16     Name of the technician that concludes the job  \n",
       "17                                               KPI  \n",
       "18                                               KPI  \n",
       "19  Date the assigned technician arrives at job site  \n",
       "20  Time the assigned technician arrives at job site  \n",
       "21       Date the assigned technician completes work  \n",
       "22       Time the assigned technician completes work  \n",
       "23                                   Spare part code  \n",
       "24                                   Spare part name  \n",
       "25                      Spare part quantity required  \n",
       "26                                  Spare part price  \n",
       "27                                       Total price  \n",
       "28                                       Gas tank 93  \n",
       "29                                       Gas tank 95  \n",
       "30                                       Gas tank 97  \n",
       "31                                       Diesel tank  \n",
       "32                                 Kerosene gas tank  \n",
       "33                              Management indicator  "
      ]
     },
     "execution_count": 153,
     "metadata": {},
     "output_type": "execute_result"
    }
   ],
   "source": [
    "# Schema\n",
    "schema = pd.read_excel(\"Data_Schema.xls\")\n",
    "schema"
   ]
  },
  {
   "cell_type": "code",
   "execution_count": 154,
   "metadata": {},
   "outputs": [
    {
     "data": {
      "text/plain": [
       "Recepción OT           0.000000\n",
       "Hora Recep.            0.000000\n",
       "OT                     0.044888\n",
       "Estacion               0.000000\n",
       "Tipo Estación          0.113681\n",
       "Ubicación Técnica      0.000000\n",
       "Origen del Servicio    0.000000\n",
       "Region                 0.000000\n",
       "Prioridad SGS          0.309012\n",
       "Prioridad Cliente      0.000000\n",
       "Tecnico Asignado       0.000000\n",
       "Estado OT              0.000000\n",
       "Condición              0.000000\n",
       "Tipo de Falla          0.000000\n",
       "Observación            0.060968\n",
       "Requerimiento          0.000000\n",
       "Técnico Cierre         0.000000\n",
       "TDR                    0.000000\n",
       "TDS                    0.000000\n",
       "Fecha Arribo           0.068020\n",
       "Hora Arribo            0.068020\n",
       "Fecha Cierre           0.083971\n",
       "Hora Cierre            0.083971\n",
       "Cod. Repuesto          1.000000\n",
       "Repuesto               1.000000\n",
       "Cnt                    1.000000\n",
       "Monto                  1.000000\n",
       "Total                  1.000000\n",
       "Ltr 93                 0.000000\n",
       "Ltr 95                 0.000000\n",
       "Ltr 97                 0.000000\n",
       "Ltr D                  0.000000\n",
       "Ltr K                  0.000000\n",
       "Ind. Gestion           0.577135\n",
       "dtype: float64"
      ]
     },
     "execution_count": 154,
     "metadata": {},
     "output_type": "execute_result"
    }
   ],
   "source": [
    "# Percentage of nulls values\n",
    "df.isnull().mean()"
   ]
  },
  {
   "cell_type": "code",
   "execution_count": 155,
   "metadata": {},
   "outputs": [
    {
     "name": "stdout",
     "output_type": "stream",
     "text": [
      "Recepción OT             350\n",
      "Hora Recep.              768\n",
      "OT                     22208\n",
      "Estacion                1007\n",
      "Tipo Estación              3\n",
      "Ubicación Técnica       1164\n",
      "Origen del Servicio        8\n",
      "Region                    15\n",
      "Prioridad SGS             15\n",
      "Prioridad Cliente         14\n",
      "Tecnico Asignado          79\n",
      "Estado OT                  4\n",
      "Condición                 12\n",
      "Tipo de Falla             66\n",
      "Observación            18516\n",
      "Requerimiento          17070\n",
      "Técnico Cierre            75\n",
      "TDR                     8991\n",
      "TDS                    10379\n",
      "Fecha Arribo             462\n",
      "Hora Arribo             1289\n",
      "Fecha Cierre             455\n",
      "Hora Cierre             1231\n",
      "Cod. Repuesto              1\n",
      "Repuesto                   1\n",
      "Cnt                        1\n",
      "Monto                      1\n",
      "Total                      1\n",
      "Ltr 93                   434\n",
      "Ltr 95                   262\n",
      "Ltr 97                   346\n",
      "Ltr D                    394\n",
      "Ltr K                    104\n",
      "Ind. Gestion               4\n"
     ]
    }
   ],
   "source": [
    "# Unique values\n",
    "for col in df.columns:\n",
    "    print(f\"{col:20} {len(df[col].unique()):7}\")"
   ]
  },
  {
   "cell_type": "code",
   "execution_count": 156,
   "metadata": {},
   "outputs": [
    {
     "data": {
      "text/plain": [
       "Index(['Recepción OT', 'Hora Recep.', 'OT', 'Estacion', 'Tipo Estación',\n",
       "       'Ubicación Técnica', 'Origen del Servicio', 'Region', 'Prioridad SGS',\n",
       "       'Prioridad Cliente', 'Tecnico Asignado', 'Estado OT', 'Condición',\n",
       "       'Tipo de Falla', 'Observación', 'Requerimiento', 'Técnico Cierre',\n",
       "       'Fecha Arribo', 'Hora Arribo', 'Fecha Cierre', 'Hora Cierre',\n",
       "       'Ind. Gestion'],\n",
       "      dtype='object')"
      ]
     },
     "execution_count": 156,
     "metadata": {},
     "output_type": "execute_result"
    }
   ],
   "source": [
    "# Categorical columns\n",
    "cat_df = df.select_dtypes(include=['object'])\n",
    "cat_df.columns"
   ]
  },
  {
   "cell_type": "markdown",
   "metadata": {},
   "source": [
    "### Main columns"
   ]
  },
  {
   "cell_type": "code",
   "execution_count": 157,
   "metadata": {},
   "outputs": [
    {
     "name": "stdout",
     "output_type": "stream",
     "text": [
      "\u001b[1mRegion - Unique values: 15\u001b[0m\n",
      "Counter({'13°': 9661, '8°': 2677, '5°': 2127, '10°': 1521, '9°': 1475, '7°': 1174, '6°': 941, '4°': 861, '2°': 838, '14°': 624, '3°': 394, '1°': 392, '12°': 277, '15°': 169, '11°': 127})\n"
     ]
    },
    {
     "data": {
      "image/png": "[encoded data removed]",
      "text/plain": [
       "<Figure size 432x288 with 1 Axes>"
      ]
     },
     "metadata": {
      "needs_background": "light"
     },
     "output_type": "display_data"
    }
   ],
   "source": [
    "# Region\n",
    "print((f\"\\033[1mRegion - Unique values: {len(sorted(df['Region'].unique()))}\\033[0m\")) # Region - unique values\n",
    "region_total = Counter(df[\"Region\"]) # Number of OT per Region\n",
    "print(region_total)\n",
    "\n",
    "sns.countplot(x='Region',data=df, );"
   ]
  },
  {
   "cell_type": "code",
   "execution_count": 158,
   "metadata": {},
   "outputs": [
    {
     "name": "stdout",
     "output_type": "stream",
     "text": [
      "\u001b[1mEstacion - Unique values: 1007\u001b[0m\n",
      "[('OPERACIONES Y SERVICIOS TERPEL LTDA.', 923), ('INVERSIONES ENEX S.A.', 429), ('SOCIEDAD DE COMBUSTIBLES AUSTRAL LTDA.', 159), ('CL - Buses Vule S.A.', 152), ('Petrobras Chile Red Ltda. Salida Norte', 118), ('Petrobras Chile Red Ltda- Enea', 117), ('SOCIEDAD COMERCIAL ANTUCO LTDA.', 115), ('Comercial Albano Ltda.', 108), ('Distribuidora de Combustibles Saavedra y Otro Ltda.', 105), ('DIGESA LTDA.', 105)]\n"
     ]
    },
    {
     "data": {
      "image/png": "[encoded data removed]",
      "text/plain": [
       "<Figure size 720x360 with 1 Axes>"
      ]
     },
     "metadata": {
      "needs_background": "light"
     },
     "output_type": "display_data"
    }
   ],
   "source": [
    "# Estacion - Station\n",
    "print((f\"\\033[1mEstacion - Unique values: {len(sorted(df['Estacion'].unique()))}\\033[0m\"))\n",
    "estacion_total= Counter(df[\"Estacion\"])\n",
    "print(estacion_total.most_common(10)) # Top 10 stations with most OT\n",
    "\n",
    "dic_est_total = estacion_total.most_common(10)\n",
    "keys_est_total = [i for i,v in dic_est_total][::-1]\n",
    "values_est_total = [v for i,v in dic_est_total][::-1]\n",
    "\n",
    "plt.rcParams['figure.figsize'] = [10,5]\n",
    "plt.rcParams.update({'figure.autolayout': True})\n",
    "plt.barh(keys_est_total,values_est_total, align = 'center', color = 'royalblue', height = 0.6)\n",
    "plt.title(\"OT per station\")\n",
    "plt.xlabel(\"count\")\n",
    "plt.show()"
   ]
  },
  {
   "cell_type": "code",
   "execution_count": 159,
   "metadata": {},
   "outputs": [
    {
     "name": "stdout",
     "output_type": "stream",
     "text": [
      "\u001b[1mTipos de Falla - Unique values: 66\u001b[0m\n"
     ]
    },
    {
     "data": {
      "image/png": "[encoded data removed]",
      "text/plain": [
       "<Figure size 1008x576 with 1 Axes>"
      ]
     },
     "metadata": {},
     "output_type": "display_data"
    }
   ],
   "source": [
    "# Tipo de Falla - Type of failure\n",
    "print((f\"\\033[1mTipos de Falla - Unique values: {len(sorted(df['Tipo de Falla'].unique()))}\\033[0m\"))\n",
    "colors = ['cornsilk','snow', 'mistyrose','pink','gold', 'yellowgreen', 'lightskyblue','royalblue','coral','turquoise']\n",
    "explode = (0,0,0,0,0, 0, 0, 0, 0, 0.08)  # explode 1st slice\n",
    "plt.rcParams['figure.figsize'] = [14,8] \n",
    "plt.rcParams.update({'figure.autolayout': True})\n",
    "\n",
    "tfalla_total = Counter(df[\"Tipo de Falla\"])\n",
    "dic_tfallatotal = tfalla_total.most_common(10)\n",
    "    \n",
    "keys = [i for i,v in dic_tfallatotal][::-1]\n",
    "values = [v for i,v in dic_tfallatotal][::-1]\n",
    "\n",
    "plt.pie(values,explode = explode, labels = keys, colors = colors,autopct='%1.1f%%', shadow=True, startangle=305)\n",
    "plt.axis('equal')\n",
    "plt.show()"
   ]
  },
  {
   "cell_type": "code",
   "execution_count": 160,
   "metadata": {},
   "outputs": [
    {
     "data": {
      "text/html": [
       "<div>\n",
       "<style scoped>\n",
       "    .dataframe tbody tr th:only-of-type {\n",
       "        vertical-align: middle;\n",
       "    }\n",
       "\n",
       "    .dataframe tbody tr th {\n",
       "        vertical-align: top;\n",
       "    }\n",
       "\n",
       "    .dataframe thead th {\n",
       "        text-align: right;\n",
       "    }\n",
       "</style>\n",
       "<table border=\"1\" class=\"dataframe\">\n",
       "  <thead>\n",
       "    <tr style=\"text-align: right;\">\n",
       "      <th></th>\n",
       "      <th>Tipo de Falla</th>\n",
       "    </tr>\n",
       "  </thead>\n",
       "  <tbody>\n",
       "    <tr>\n",
       "      <th>OTROOTRO</th>\n",
       "      <td>0.437269</td>\n",
       "    </tr>\n",
       "    <tr>\n",
       "      <th>SURTIDOR / DISPENSERACCESORIOS &amp; FILTROSOTROS</th>\n",
       "      <td>0.152808</td>\n",
       "    </tr>\n",
       "    <tr>\n",
       "      <th>PROGRAMA MANTENCIÓN PREVENTIVASURTIDORES / ESTANQUESCHECK LIST</th>\n",
       "      <td>0.148121</td>\n",
       "    </tr>\n",
       "    <tr>\n",
       "      <th>SURTIDOR / DISPENSERCABEZALOTROS</th>\n",
       "      <td>0.068149</td>\n",
       "    </tr>\n",
       "    <tr>\n",
       "      <th>SURTIDOR / DISPENSERACCESORIOS &amp; FILTROSPISTOLA</th>\n",
       "      <td>0.038954</td>\n",
       "    </tr>\n",
       "    <tr>\n",
       "      <th>...</th>\n",
       "      <td>...</td>\n",
       "    </tr>\n",
       "    <tr>\n",
       "      <th>SURTIDOR / DISPENSERELEMENTOSRETRACTIL</th>\n",
       "      <td>0.000043</td>\n",
       "    </tr>\n",
       "    <tr>\n",
       "      <th>SURTIDOR / DISPENSERCONTROL FLUJOVALVULA SOLENOIDE / DIGITAL</th>\n",
       "      <td>0.000043</td>\n",
       "    </tr>\n",
       "    <tr>\n",
       "      <th>SURTIDOR / DISPENSERMEDIDORVALVULA DE RETENCIÒN</th>\n",
       "      <td>0.000043</td>\n",
       "    </tr>\n",
       "    <tr>\n",
       "      <th>SURTIDOR / DISPENSERCABEZALCABLES ELECTRICOS</th>\n",
       "      <td>0.000043</td>\n",
       "    </tr>\n",
       "    <tr>\n",
       "      <th>SURTIDOR / DISPENSERCONTROL FLUJOTOTALIZADOR</th>\n",
       "      <td>0.000043</td>\n",
       "    </tr>\n",
       "  </tbody>\n",
       "</table>\n",
       "<p>66 rows × 1 columns</p>\n",
       "</div>"
      ],
      "text/plain": [
       "                                                    Tipo de Falla\n",
       "OTROOTRO                                                 0.437269\n",
       "SURTIDOR / DISPENSERACCESORIOS & FILTROSOTROS            0.152808\n",
       "PROGRAMA MANTENCIÓN PREVENTIVASURTIDORES / ESTA...       0.148121\n",
       "SURTIDOR / DISPENSERCABEZALOTROS                         0.068149\n",
       "SURTIDOR / DISPENSERACCESORIOS & FILTROSPISTOLA          0.038954\n",
       "...                                                           ...\n",
       "SURTIDOR / DISPENSERELEMENTOSRETRACTIL                   0.000043\n",
       "SURTIDOR / DISPENSERCONTROL FLUJOVALVULA SOLENO...       0.000043\n",
       "SURTIDOR / DISPENSERMEDIDORVALVULA DE RETENCIÒN          0.000043\n",
       "SURTIDOR / DISPENSERCABEZALCABLES ELECTRICOS             0.000043\n",
       "SURTIDOR / DISPENSERCONTROL FLUJOTOTALIZADOR             0.000043\n",
       "\n",
       "[66 rows x 1 columns]"
      ]
     },
     "execution_count": 160,
     "metadata": {},
     "output_type": "execute_result"
    }
   ],
   "source": [
    "# Tipo de Falla - Proportion\n",
    "pd.DataFrame(df['Tipo de Falla'].value_counts()/ df['Tipo de Falla'].shape[0])"
   ]
  },
  {
   "cell_type": "code",
   "execution_count": 161,
   "metadata": {},
   "outputs": [
    {
     "data": {
      "text/plain": [
       "'Brakaway cortado era convencional  Cambio de brakaway 3/4 reconectable boca 3 de 95 el cual se corto y era convencional. Equipo operativo'"
      ]
     },
     "execution_count": 161,
     "metadata": {},
     "output_type": "execute_result"
    }
   ],
   "source": [
    "# Observaciones - Observations\n",
    "df['Observación'][100]"
   ]
  },
  {
   "cell_type": "code",
   "execution_count": 162,
   "metadata": {},
   "outputs": [
    {
     "data": {
      "text/plain": [
       "'Area de Atención : En isla Nº 1 boca 3 gasolina 95 manguera  y pistola se salio  del dispensador sin venta isla Nº 1  Solicitado por: Norma Rivera Friz Fono: 82042508'"
      ]
     },
     "execution_count": 162,
     "metadata": {},
     "output_type": "execute_result"
    }
   ],
   "source": [
    "# Requerimientos - Requirement \n",
    "df['Requerimiento'][100]"
   ]
  },
  {
   "cell_type": "markdown",
   "metadata": {},
   "source": [
    "# III. Data Preparation"
   ]
  },
  {
   "cell_type": "markdown",
   "metadata": {},
   "source": [
    "For the purpose of solving the business questions, first it is necessary to pre-process the data\n",
    "\n",
    "<div class=\"alert alert-success\" style=\"margin: 20px\">\n",
    "<b>Business Questions: </b><br>\n",
    "    1.- What are the periods when M&R receives the most number of work orders (OT)? Is there a peak?<br>\n",
    "    2.- How long does it take to attend the requests? and how much time does a worker spend fixing the issues?<br>\n",
    "    3.- What are the most common type of failures or issues that require attention?  \n",
    "</div>"
   ]
  },
  {
   "cell_type": "markdown",
   "metadata": {},
   "source": [
    "### 1. What are the periods when M&R receives the most number of work orders (OT)? Is there a peak?"
   ]
  },
  {
   "cell_type": "code",
   "execution_count": 163,
   "metadata": {},
   "outputs": [],
   "source": [
    "# Generating a day interval function\n",
    "def days_interval(row):\n",
    "    if row == 0: \n",
    "        return '0 - 24 hrs'\n",
    "    elif row == 1:\n",
    "        return '1 - 2 days'\n",
    "    elif row == 2:\n",
    "        return '2 - 3 days'\n",
    "    elif row == 3: \n",
    "        return '3 - 4 days'\n",
    "    elif row == 4: \n",
    "        return '4 - 5 days'\n",
    "    elif row == 5: \n",
    "        return '5 - 6 days'\n",
    "    elif row == 6: \n",
    "        return '6 - 7 days'\n",
    "    elif row>= 7 and row <= 14: \n",
    "        return '1 - 2 weeks'\n",
    "    elif row>14 and row <= 21: \n",
    "        return '2 - 3 weeks'\n",
    "    elif row>21 and row <= 31: \n",
    "        return '3 - 4 weeks'\n",
    "    else:\n",
    "        if row>0:\n",
    "            return '+ 1 month'\n",
    "        else: \n",
    "            return 'Date Error' \n",
    "        \n",
    "# Generating an hour interval function        \n",
    "def hours_interval(row):\n",
    "    if row == 0: \n",
    "        return 'Less 1 hrs'\n",
    "    elif row == 1:\n",
    "        return '1 - 2 hrs'\n",
    "    elif row == 2:\n",
    "        return '2 - 3 hrs'\n",
    "    elif row == 3: \n",
    "        return '3 - 4 hrs'\n",
    "    elif row == 4: \n",
    "        return '4 - 5 hrs'\n",
    "    elif row == 5: \n",
    "        return '5 - 6 hrs'\n",
    "    elif row == 6: \n",
    "        return '6 - 7 hrs'\n",
    "    elif row == 7: \n",
    "        return '7 - 8 hrs'\n",
    "    elif row>=8 and row <= 24: \n",
    "        return '8 - 24 hrs'\n",
    "    elif row>24 and row <= 72: \n",
    "        return '1 - 3 days'\n",
    "    elif row>72 and row <= 168: \n",
    "        return '3 - 7 days'\n",
    "    elif row>168 and row <= 730: \n",
    "        return '1 - 4 weeks'\n",
    "    else:\n",
    "        if row>0:\n",
    "            return '+ 1 month'\n",
    "        else: \n",
    "            return 'Time Error'"
   ]
  },
  {
   "cell_type": "code",
   "execution_count": 164,
   "metadata": {},
   "outputs": [],
   "source": [
    "# Function to extract info from dates and times\n",
    "def df_date_time(df):\n",
    "    '''\n",
    "    INPUT\n",
    "    - The original Data Frame\n",
    "    \n",
    "    OUTPUT\n",
    "    - Data Frame with time intervals\n",
    "    '''\n",
    "    \n",
    "    d_months = {1:'JAN',2:'FEB',3:'MAR',4:'APR',5:'MAY',6:'JUN',7:'JUL',8:'AUG',9:'SEP',10:'OCT',11:'NOV',12:'DEC'}\n",
    "   \n",
    "    df['Reception'] = pd.to_datetime((df['Recepción OT'] + ' ' +  df['Hora Recep.']), dayfirst= True)  \n",
    "    df['Arrival'] = pd.to_datetime((df['Fecha Arribo'] + ' ' +  df['Hora Arribo']), dayfirst= True) \n",
    "    df['Departure'] = pd.to_datetime((df['Fecha Cierre'] + ' ' +  df['Hora Cierre']), dayfirst= True)\n",
    "    df['Recepción OT'] = pd.to_datetime(df['Recepción OT'], dayfirst= True, format = '%d/%m/%Y')\n",
    "    df['Hora Recep.']= pd.to_datetime(df['Hora Recep.'])\n",
    "\n",
    "    df['Day'] =  (df[['Recepción OT']].apply(lambda x: datetime.datetime.strftime(x['Recepción OT'], '%A'), axis=1))\n",
    "    df['N Day'] = df['Recepción OT'].dt.day\n",
    "    df['Month'] = (df['Recepción OT'].dt.month).apply(lambda x: d_months[x]) +' '+ (df[['Recepción OT']].apply(lambda x: datetime.datetime.strftime(x['Recepción OT'], '%y'), axis=1))\n",
    "    df['Hour'] = df['Hora Recep.'].dt.hour\n",
    "\n",
    "    def days_hours_minutes(td):\n",
    "        return td.days, td.seconds//3600, (td.seconds//60)%60\n",
    "    def hours_timestamp(td):\n",
    "        from math import floor\n",
    "        return (td.days*24)+(td.seconds//3600)\n",
    "\n",
    "    df['Time Reception/Arrival'] = (df['Arrival'] - df['Reception']).dt.days\n",
    "    df['Time Arrival/Departure'] = (df['Departure'] - df['Arrival']).apply(hours_timestamp)\n",
    "    df['Interval Recep/Arrival'] = df['Time Reception/Arrival'].apply(days_interval)\n",
    "    df['Interval Arrival/Landing'] = df['Time Arrival/Departure'].apply(hours_interval)\n",
    "    \n",
    "    return df\n"
   ]
  },
  {
   "cell_type": "code",
   "execution_count": 165,
   "metadata": {},
   "outputs": [
    {
     "data": {
      "text/html": [
       "<div>\n",
       "<style scoped>\n",
       "    .dataframe tbody tr th:only-of-type {\n",
       "        vertical-align: middle;\n",
       "    }\n",
       "\n",
       "    .dataframe tbody tr th {\n",
       "        vertical-align: top;\n",
       "    }\n",
       "\n",
       "    .dataframe thead th {\n",
       "        text-align: right;\n",
       "    }\n",
       "</style>\n",
       "<table border=\"1\" class=\"dataframe\">\n",
       "  <thead>\n",
       "    <tr style=\"text-align: right;\">\n",
       "      <th></th>\n",
       "      <th>Recepción OT</th>\n",
       "      <th>Hora Recep.</th>\n",
       "      <th>OT</th>\n",
       "      <th>Estacion</th>\n",
       "      <th>Tipo Estación</th>\n",
       "      <th>Ubicación Técnica</th>\n",
       "      <th>Origen del Servicio</th>\n",
       "      <th>Region</th>\n",
       "      <th>Prioridad SGS</th>\n",
       "      <th>Prioridad Cliente</th>\n",
       "      <th>...</th>\n",
       "      <th>Arrival</th>\n",
       "      <th>Departure</th>\n",
       "      <th>Day</th>\n",
       "      <th>N Day</th>\n",
       "      <th>Month</th>\n",
       "      <th>Hour</th>\n",
       "      <th>Time Reception/Arrival</th>\n",
       "      <th>Time Arrival/Departure</th>\n",
       "      <th>Interval Recep/Arrival</th>\n",
       "      <th>Interval Arrival/Landing</th>\n",
       "    </tr>\n",
       "  </thead>\n",
       "  <tbody>\n",
       "    <tr>\n",
       "      <th>0</th>\n",
       "      <td>2019-08-30</td>\n",
       "      <td>2021-05-04 17:18:00</td>\n",
       "      <td>3008190033</td>\n",
       "      <td>Buses Metropolitana</td>\n",
       "      <td>PUNTO INDUSTRIAL</td>\n",
       "      <td>2256194</td>\n",
       "      <td>Contrato Fuel System Enex</td>\n",
       "      <td>13°</td>\n",
       "      <td>Normal 24 Horas</td>\n",
       "      <td>Normal 24 Horas</td>\n",
       "      <td>...</td>\n",
       "      <td>NaT</td>\n",
       "      <td>NaT</td>\n",
       "      <td>Friday</td>\n",
       "      <td>30</td>\n",
       "      <td>AUG 19</td>\n",
       "      <td>17</td>\n",
       "      <td>NaN</td>\n",
       "      <td>NaN</td>\n",
       "      <td>Date Error</td>\n",
       "      <td>Time Error</td>\n",
       "    </tr>\n",
       "    <tr>\n",
       "      <th>1</th>\n",
       "      <td>2019-08-30</td>\n",
       "      <td>2021-05-04 17:17:00</td>\n",
       "      <td>3008190024</td>\n",
       "      <td>INVERSIONES INGERIASUR LTDA.</td>\n",
       "      <td>ESTACION DE SERVICIO</td>\n",
       "      <td>359</td>\n",
       "      <td>Contrato Fuel System Enex</td>\n",
       "      <td>9°</td>\n",
       "      <td>Normal 24 Horas</td>\n",
       "      <td>Normal 24 Horas</td>\n",
       "      <td>...</td>\n",
       "      <td>NaT</td>\n",
       "      <td>NaT</td>\n",
       "      <td>Friday</td>\n",
       "      <td>30</td>\n",
       "      <td>AUG 19</td>\n",
       "      <td>17</td>\n",
       "      <td>NaN</td>\n",
       "      <td>NaN</td>\n",
       "      <td>Date Error</td>\n",
       "      <td>Time Error</td>\n",
       "    </tr>\n",
       "    <tr>\n",
       "      <th>2</th>\n",
       "      <td>2019-08-30</td>\n",
       "      <td>2021-05-04 16:52:00</td>\n",
       "      <td>2606190074</td>\n",
       "      <td>Tingaro Spa.</td>\n",
       "      <td>ESTACION DE SERVICIO</td>\n",
       "      <td>553</td>\n",
       "      <td>Contrato Fuel System Enex</td>\n",
       "      <td>13°</td>\n",
       "      <td>Normal 48 Horas</td>\n",
       "      <td>Normal 48 Horas</td>\n",
       "      <td>...</td>\n",
       "      <td>2019-06-27 09:00:00</td>\n",
       "      <td>2019-08-28 17:00:00</td>\n",
       "      <td>Friday</td>\n",
       "      <td>30</td>\n",
       "      <td>AUG 19</td>\n",
       "      <td>16</td>\n",
       "      <td>-65.0</td>\n",
       "      <td>1496.0</td>\n",
       "      <td>Date Error</td>\n",
       "      <td>+ 1 month</td>\n",
       "    </tr>\n",
       "    <tr>\n",
       "      <th>3</th>\n",
       "      <td>2019-08-30</td>\n",
       "      <td>2021-05-04 16:49:00</td>\n",
       "      <td>3008190043</td>\n",
       "      <td>INVERSIONES GLOBAL LIMITADA</td>\n",
       "      <td>ESTACION DE SERVICIO</td>\n",
       "      <td>660</td>\n",
       "      <td>Contrato Fuel System Enex</td>\n",
       "      <td>9°</td>\n",
       "      <td>Normal 24 Horas</td>\n",
       "      <td>Normal 24 Horas</td>\n",
       "      <td>...</td>\n",
       "      <td>NaT</td>\n",
       "      <td>NaT</td>\n",
       "      <td>Friday</td>\n",
       "      <td>30</td>\n",
       "      <td>AUG 19</td>\n",
       "      <td>16</td>\n",
       "      <td>NaN</td>\n",
       "      <td>NaN</td>\n",
       "      <td>Date Error</td>\n",
       "      <td>Time Error</td>\n",
       "    </tr>\n",
       "    <tr>\n",
       "      <th>4</th>\n",
       "      <td>2019-08-30</td>\n",
       "      <td>2021-05-04 16:48:00</td>\n",
       "      <td>2908190028</td>\n",
       "      <td>Comercial Antuco Ltda.</td>\n",
       "      <td>ESTACION DE SERVICIO</td>\n",
       "      <td>680</td>\n",
       "      <td>Contrato Fuel System Enex</td>\n",
       "      <td>5°</td>\n",
       "      <td>Normal 24 Horas</td>\n",
       "      <td>Normal 24 Horas</td>\n",
       "      <td>...</td>\n",
       "      <td>2019-08-29 12:50:00</td>\n",
       "      <td>NaT</td>\n",
       "      <td>Friday</td>\n",
       "      <td>30</td>\n",
       "      <td>AUG 19</td>\n",
       "      <td>16</td>\n",
       "      <td>-2.0</td>\n",
       "      <td>NaN</td>\n",
       "      <td>Date Error</td>\n",
       "      <td>Time Error</td>\n",
       "    </tr>\n",
       "  </tbody>\n",
       "</table>\n",
       "<p>5 rows × 45 columns</p>\n",
       "</div>"
      ],
      "text/plain": [
       "  Recepción OT         Hora Recep.          OT                      Estacion  \\\n",
       "0   2019-08-30 2021-05-04 17:18:00  3008190033           Buses Metropolitana   \n",
       "1   2019-08-30 2021-05-04 17:17:00  3008190024  INVERSIONES INGERIASUR LTDA.   \n",
       "2   2019-08-30 2021-05-04 16:52:00  2606190074                  Tingaro Spa.   \n",
       "3   2019-08-30 2021-05-04 16:49:00  3008190043   INVERSIONES GLOBAL LIMITADA   \n",
       "4   2019-08-30 2021-05-04 16:48:00  2908190028        Comercial Antuco Ltda.   \n",
       "\n",
       "          Tipo Estación Ubicación Técnica        Origen del Servicio Region  \\\n",
       "0      PUNTO INDUSTRIAL           2256194  Contrato Fuel System Enex    13°   \n",
       "1  ESTACION DE SERVICIO               359  Contrato Fuel System Enex     9°   \n",
       "2  ESTACION DE SERVICIO               553  Contrato Fuel System Enex    13°   \n",
       "3  ESTACION DE SERVICIO               660  Contrato Fuel System Enex     9°   \n",
       "4  ESTACION DE SERVICIO               680  Contrato Fuel System Enex     5°   \n",
       "\n",
       "     Prioridad SGS Prioridad Cliente  ...             Arrival  \\\n",
       "0  Normal 24 Horas   Normal 24 Horas  ...                 NaT   \n",
       "1  Normal 24 Horas   Normal 24 Horas  ...                 NaT   \n",
       "2  Normal 48 Horas   Normal 48 Horas  ... 2019-06-27 09:00:00   \n",
       "3  Normal 24 Horas   Normal 24 Horas  ...                 NaT   \n",
       "4  Normal 24 Horas   Normal 24 Horas  ... 2019-08-29 12:50:00   \n",
       "\n",
       "            Departure     Day N Day   Month Hour Time Reception/Arrival  \\\n",
       "0                 NaT  Friday    30  AUG 19   17                    NaN   \n",
       "1                 NaT  Friday    30  AUG 19   17                    NaN   \n",
       "2 2019-08-28 17:00:00  Friday    30  AUG 19   16                  -65.0   \n",
       "3                 NaT  Friday    30  AUG 19   16                    NaN   \n",
       "4                 NaT  Friday    30  AUG 19   16                   -2.0   \n",
       "\n",
       "   Time Arrival/Departure  Interval Recep/Arrival Interval Arrival/Landing  \n",
       "0                     NaN              Date Error               Time Error  \n",
       "1                     NaN              Date Error               Time Error  \n",
       "2                  1496.0              Date Error                + 1 month  \n",
       "3                     NaN              Date Error               Time Error  \n",
       "4                     NaN              Date Error               Time Error  \n",
       "\n",
       "[5 rows x 45 columns]"
      ]
     },
     "execution_count": 165,
     "metadata": {},
     "output_type": "execute_result"
    }
   ],
   "source": [
    "df2 = df_date_time(df.copy())\n",
    "df2.head()"
   ]
  },
  {
   "cell_type": "code",
   "execution_count": 166,
   "metadata": {},
   "outputs": [],
   "source": [
    "# Function to check the OT evolution over time\n",
    "\n",
    "def OT_timeline(df, c = 'lightskyblue', figsize = [15,9]):\n",
    "    '''\n",
    "    INPUT\n",
    "    - Data Frame with time intervals \n",
    "    - Color\n",
    "    - Figsize\n",
    "    \n",
    "    OUTPUT\n",
    "    - Figure with four subplots (OT per Month, OT per Day, OT per Day of Week and OT per Hour)\n",
    "    \n",
    "    '''\n",
    "    \n",
    "    plt.figure(1)\n",
    "    plt.rcParams['figure.figsize'] = figsize\n",
    "    meses = Counter(df[\"Month\"]) # Cantidad de mantenciones por mes\n",
    "    plt.subplot(221)\n",
    "    mi = ['JUL 18','AUG 18','SEP 18','OCT 18','NOV 18','DEC 18','JAN 19','FEB 19','MAR 19','APR 19','MAY 19','JUN 19','JUL 19', 'AUG 19']\n",
    "    mv = [meses[i] for i in mi]\n",
    "    plt.plot(mi, mv, color = c, marker = 'o')\n",
    "    plt.title(\"OT per Month\", fontweight= 'bold', fontsize = 10)\n",
    "    plt.ylabel('count')\n",
    "    plt.xticks(rotation=30)\n",
    "\n",
    "    # -----------------------------------------------------------\n",
    "    plt.subplot(222)\n",
    "    n_dias = Counter(df['N Day']) # Cantidad de mantenciones por número de dias\n",
    "    d4 = n_dias.most_common(31)\n",
    "    ni = [i for i,v in d4][::-1]\n",
    "    nv = [v for i,v in d4][::-1]\n",
    "    plt.bar(ni, nv, align='center', color = c)\n",
    "    plt.title(\"OT per Day\",fontweight= 'bold', fontsize = 10)\n",
    "    plt.ylabel('count')\n",
    "    plt.xlabel('Day')\n",
    "    plt.xticks(range(1,32))\n",
    "\n",
    "    # -----------------------------------------------------------\n",
    "    plt.subplot(223)\n",
    "    dias = Counter(df[\"Day\"]) # Cantidad de mantenciones por dia\n",
    "    di = ['Monday','Tuesday','Wednesday','Thursday','Friday','Saturday','Sunday']\n",
    "    dv = [dias[i] for i in di]\n",
    "    plt.plot(di, dv, color = c, marker = 'o')\n",
    "    plt.title(\"OT per Day of Week\",fontweight= 'bold', fontsize = 10)\n",
    "    plt.ylabel('count')\n",
    "    plt.xticks(rotation=0)\n",
    "\n",
    "    # -----------------------------------------------------------\n",
    "    plt.subplot(224)\n",
    "    horas = Counter(df[\"Hour\"]) # Cantidad de mantenciones por rango de hora\n",
    "    d3 = horas.most_common(30)\n",
    "    hi = [i for i,v in d3][::-1]\n",
    "    hv = [v for i,v in d3][::-1]\n",
    "    plt.bar(hi, hv, align='center', color = c)\n",
    "    plt.title(\"OT per Hour\",fontweight= 'bold', fontsize = 10)\n",
    "    plt.xlabel('Hour')\n",
    "    plt.ylabel('count')\n",
    "    plt.xticks(range(0,24))\n",
    "    \n",
    "    plt.tight_layout()"
   ]
  },
  {
   "cell_type": "code",
   "execution_count": 167,
   "metadata": {},
   "outputs": [],
   "source": [
    "def col_perc_values(col):\n",
    "    '''It returns the proportion of a value in a column'''\n",
    "    return col.value_counts()/col.shape[0]"
   ]
  },
  {
   "cell_type": "code",
   "execution_count": 168,
   "metadata": {},
   "outputs": [
    {
     "data": {
      "image/png": "[encoded data removed]",
      "text/plain": [
       "<Figure size 1008x576 with 4 Axes>"
      ]
     },
     "metadata": {
      "needs_background": "light"
     },
     "output_type": "display_data"
    }
   ],
   "source": [
    "OT_timeline(df2)"
   ]
  },
  {
   "cell_type": "code",
   "execution_count": 169,
   "metadata": {},
   "outputs": [
    {
     "data": {
      "text/plain": [
       "JUN 19    0.082079\n",
       "APR 19    0.078468\n",
       "AUG 19    0.076963\n",
       "JUL 19    0.075329\n",
       "MAY 19    0.073480\n",
       "DEC 18    0.071631\n",
       "OCT 18    0.071201\n",
       "JUL 18    0.070556\n",
       "NOV 18    0.069911\n",
       "AUG 18    0.069567\n",
       "JAN 19    0.068364\n",
       "MAR 19    0.066171\n",
       "FEB 19    0.064537\n",
       "SEP 18    0.061742\n",
       "Name: Month, dtype: float64"
      ]
     },
     "execution_count": 169,
     "metadata": {},
     "output_type": "execute_result"
    }
   ],
   "source": [
    "col_perc_values(df2['Month'])"
   ]
  },
  {
   "cell_type": "code",
   "execution_count": 170,
   "metadata": {},
   "outputs": [
    {
     "data": {
      "text/plain": [
       "1     0.063677\n",
       "3     0.045060\n",
       "4     0.043684\n",
       "7     0.043297\n",
       "5     0.041190\n",
       "10    0.040631\n",
       "17    0.036031\n",
       "12    0.035601\n",
       "6     0.035515\n",
       "26    0.035128\n",
       "8     0.033838\n",
       "11    0.033623\n",
       "13    0.033580\n",
       "25    0.032763\n",
       "22    0.032333\n",
       "27    0.031946\n",
       "14    0.031731\n",
       "9     0.029925\n",
       "28    0.029753\n",
       "20    0.029452\n",
       "19    0.029323\n",
       "18    0.029280\n",
       "24    0.027560\n",
       "29    0.026228\n",
       "23    0.022659\n",
       "21    0.022616\n",
       "16    0.022573\n",
       "30    0.022272\n",
       "15    0.022100\n",
       "2     0.020509\n",
       "31    0.016123\n",
       "Name: N Day, dtype: float64"
      ]
     },
     "execution_count": 170,
     "metadata": {},
     "output_type": "execute_result"
    }
   ],
   "source": [
    "col_perc_values(df2['N Day'])"
   ]
  },
  {
   "cell_type": "code",
   "execution_count": 171,
   "metadata": {},
   "outputs": [
    {
     "data": {
      "text/plain": [
       "Monday       0.267005\n",
       "Wednesday    0.187806\n",
       "Tuesday      0.185227\n",
       "Thursday     0.182045\n",
       "Friday       0.164847\n",
       "Saturday     0.011437\n",
       "Sunday       0.001634\n",
       "Name: Day, dtype: float64"
      ]
     },
     "execution_count": 171,
     "metadata": {},
     "output_type": "execute_result"
    }
   ],
   "source": [
    "col_perc_values(df2['Day'])"
   ]
  },
  {
   "cell_type": "code",
   "execution_count": 172,
   "metadata": {},
   "outputs": [
    {
     "data": {
      "text/plain": [
       "9     0.160246\n",
       "10    0.121980\n",
       "11    0.111832\n",
       "12    0.086379\n",
       "8     0.083670\n",
       "17    0.083197\n",
       "16    0.078124\n",
       "14    0.076146\n",
       "15    0.074641\n",
       "13    0.064709\n",
       "2     0.044243\n",
       "18    0.007610\n",
       "19    0.003784\n",
       "20    0.001935\n",
       "23    0.000602\n",
       "21    0.000473\n",
       "22    0.000344\n",
       "1     0.000043\n",
       "0     0.000043\n",
       "Name: Hour, dtype: float64"
      ]
     },
     "execution_count": 172,
     "metadata": {},
     "output_type": "execute_result"
    }
   ],
   "source": [
    "col_perc_values(df2['Hour'])"
   ]
  },
  {
   "cell_type": "markdown",
   "metadata": {},
   "source": [
    "<div class=\"alert alert-success\" style=\"margin: 20px\">\n",
    "<b>Business Questions: </b><br>\n",
    "    1.- What are the periods when M&R receives the most number of work orders (OT)? Is there a peak?<br>\n",
    "    \n",
    "Looking at the charts from above we can say that:\n",
    "    \n",
    "a) The OT started to become more frequent from April 2019 onwards. On June 2019 was the peak and the lowest point was on September 2018, in part because on this month Chile had its national holidays.<br>\n",
    "    \n",
    "b) There is a slight tendency that the number of OT are higher at the beginning of the month, as the first 10 days accumulate 40% of the total.<br>\n",
    "\n",
    "c) Mondays are the day when M&R recieved the mosth amount of orders (27% counting the whole week).<br>\n",
    "    \n",
    "d) Usually the work orders are received in the morning (beforne 12pm).<br>\n",
    "    \n",
    "</div>"
   ]
  },
  {
   "cell_type": "markdown",
   "metadata": {},
   "source": [
    "### 2. How long does it take to attend the requests? and how much time does a worker spend fixing the issues?"
   ]
  },
  {
   "cell_type": "code",
   "execution_count": 173,
   "metadata": {},
   "outputs": [],
   "source": [
    "# Function to check how long does it take to attend the requests\n",
    "\n",
    "def work_time(df, c = 'lightgray', figsize = [15,9]):\n",
    "    '''\n",
    "    INPUT\n",
    "    - Data Frame with time intervals \n",
    "    - Color\n",
    "    - Figsize\n",
    "    \n",
    "    OUTPUT\n",
    "    - Figure with two subplots showing the Time Reception OT / Arrival worker and Time Arrival/Departure of the worker\n",
    "    \n",
    "    '''\n",
    "    plt.figure(1)\n",
    "    \n",
    "    plt.subplot(211)\n",
    "    recep_arrival = Counter(df['Interval Recep/Arrival'])\n",
    "    range_di = ['0 - 24 hrs', '1 - 2 days', '2 - 3 days','3 - 4 days','4 - 5 days','5 - 6 days','6 - 7 days', '1 - 2 weeks',\n",
    "               '2 - 3 weeks','3 - 4 weeks','+ 1 month','Date Error']\n",
    "    range_dv = [recep_arrival[i] for i in range_di]\n",
    "\n",
    "    plt.plot(range_di, range_dv, color = c, marker = 'o')\n",
    "    plt.title(\"Time Reception OT / Arrival worker\",fontweight= 'bold', fontsize = 10)\n",
    "    plt.ylabel('Count')\n",
    "    plt.xticks(rotation=50)\n",
    "\n",
    "    # -----------------------------------------------------------\n",
    "    plt.subplot(212)\n",
    "    arrival_dep = Counter(df['Interval Arrival/Landing'])\n",
    "    range_hi = ['Less 1 hrs', '1 - 2 hrs','2 - 3 hrs','3 - 4 hrs','4 - 5 hrs','5 - 6 hrs','6 - 7 hrs',\n",
    "              '7 - 8 hrs','8 - 24 hrs','1 - 3 days','3 - 7 days','1 - 4 weeks','+ 1 month','Time Error']\n",
    "    range_hv = [arrival_dep[i] for i in range_hi]\n",
    "\n",
    "\n",
    "    plt.bar(range_hi, range_hv, color = c, align='center', width = 0.6)\n",
    "    plt.title(\"Time Arrival / Departure worker\",fontweight= 'bold', fontsize = 10)\n",
    "    plt.ylabel('Count')\n",
    "    plt.xticks(rotation=50)\n",
    "    \n",
    "    plt.tight_layout()"
   ]
  },
  {
   "cell_type": "code",
   "execution_count": 174,
   "metadata": {},
   "outputs": [
    {
     "data": {
      "image/png": "[encoded data removed]",
      "text/plain": [
       "<Figure size 1080x648 with 2 Axes>"
      ]
     },
     "metadata": {
      "needs_background": "light"
     },
     "output_type": "display_data"
    }
   ],
   "source": [
    "work_time(df2)"
   ]
  },
  {
   "cell_type": "code",
   "execution_count": 175,
   "metadata": {},
   "outputs": [
    {
     "data": {
      "text/plain": [
       "0 - 24 hrs     0.427724\n",
       "Date Error     0.161880\n",
       "1 - 2 days     0.122538\n",
       "1 - 2 weeks    0.056884\n",
       "2 - 3 days     0.055508\n",
       "3 - 4 days     0.040416\n",
       "2 - 3 weeks    0.026958\n",
       "4 - 5 days     0.026486\n",
       "+ 1 month      0.023648\n",
       "3 - 4 weeks    0.020724\n",
       "5 - 6 days     0.019305\n",
       "6 - 7 days     0.017929\n",
       "Name: Interval Recep/Arrival, dtype: float64"
      ]
     },
     "execution_count": 175,
     "metadata": {},
     "output_type": "execute_result"
    }
   ],
   "source": [
    "col_perc_values(df2['Interval Recep/Arrival'])"
   ]
  },
  {
   "cell_type": "code",
   "execution_count": 176,
   "metadata": {},
   "outputs": [
    {
     "data": {
      "text/plain": [
       "Less 1 hrs     0.358844\n",
       "1 - 2 hrs      0.192106\n",
       "Time Error     0.083971\n",
       "2 - 3 hrs      0.067289\n",
       "1 - 3 days     0.057787\n",
       "1 - 4 weeks    0.049402\n",
       "3 - 7 days     0.047597\n",
       "8 - 24 hrs     0.032892\n",
       "3 - 4 hrs      0.029237\n",
       "+ 1 month      0.021842\n",
       "4 - 5 hrs      0.019563\n",
       "5 - 6 hrs      0.015952\n",
       "6 - 7 hrs      0.014576\n",
       "7 - 8 hrs      0.008943\n",
       "Name: Interval Arrival/Landing, dtype: float64"
      ]
     },
     "execution_count": 176,
     "metadata": {},
     "output_type": "execute_result"
    }
   ],
   "source": [
    "col_perc_values(df2['Interval Arrival/Landing'])"
   ]
  },
  {
   "cell_type": "markdown",
   "metadata": {},
   "source": [
    "<div class=\"alert alert-success\" style=\"margin: 20px\">\n",
    "<b>Business Questions: </b><br>\n",
    "2.- How long does it take to attend the requests? and how much time does a worker spend fixing the issues?\n",
    "    \n",
    "Based on the two plots from above we can conclude that:\n",
    "    \n",
    "a) 43% of the time the OT are attended under 24 hours and 55% under 2 days. On the other hand the ratio of OT that get cancelled or never are attended is 16% <br>\n",
    "    \n",
    "b) 36% of the time the problem is fixed in a matter of minutes (less than an hour) and 55% under two hours. The Time Error could indicate a manual error when the worker register the activity or that the activity was not solved by him, and this is equial to 8% <br>\n",
    "\n",
    "    \n",
    "</div>"
   ]
  },
  {
   "cell_type": "markdown",
   "metadata": {},
   "source": [
    "### 3.- What are the most common type of failures or issues that require attention?"
   ]
  },
  {
   "cell_type": "code",
   "execution_count": 177,
   "metadata": {},
   "outputs": [
    {
     "data": {
      "text/html": [
       "<div>\n",
       "<style scoped>\n",
       "    .dataframe tbody tr th:only-of-type {\n",
       "        vertical-align: middle;\n",
       "    }\n",
       "\n",
       "    .dataframe tbody tr th {\n",
       "        vertical-align: top;\n",
       "    }\n",
       "\n",
       "    .dataframe thead th {\n",
       "        text-align: right;\n",
       "    }\n",
       "</style>\n",
       "<table border=\"1\" class=\"dataframe\">\n",
       "  <thead>\n",
       "    <tr style=\"text-align: right;\">\n",
       "      <th></th>\n",
       "      <th>Tipo de Falla</th>\n",
       "    </tr>\n",
       "  </thead>\n",
       "  <tbody>\n",
       "    <tr>\n",
       "      <th>OTROOTRO</th>\n",
       "      <td>0.437269</td>\n",
       "    </tr>\n",
       "    <tr>\n",
       "      <th>SURTIDOR / DISPENSERACCESORIOS &amp; FILTROSOTROS</th>\n",
       "      <td>0.152808</td>\n",
       "    </tr>\n",
       "    <tr>\n",
       "      <th>PROGRAMA MANTENCIÓN PREVENTIVASURTIDORES / ESTANQUESCHECK LIST</th>\n",
       "      <td>0.148121</td>\n",
       "    </tr>\n",
       "    <tr>\n",
       "      <th>SURTIDOR / DISPENSERCABEZALOTROS</th>\n",
       "      <td>0.068149</td>\n",
       "    </tr>\n",
       "    <tr>\n",
       "      <th>SURTIDOR / DISPENSERACCESORIOS &amp; FILTROSPISTOLA</th>\n",
       "      <td>0.038954</td>\n",
       "    </tr>\n",
       "    <tr>\n",
       "      <th>...</th>\n",
       "      <td>...</td>\n",
       "    </tr>\n",
       "    <tr>\n",
       "      <th>SURTIDOR / DISPENSERELEMENTOSRETRACTIL</th>\n",
       "      <td>0.000043</td>\n",
       "    </tr>\n",
       "    <tr>\n",
       "      <th>SURTIDOR / DISPENSERCONTROL FLUJOVALVULA SOLENOIDE / DIGITAL</th>\n",
       "      <td>0.000043</td>\n",
       "    </tr>\n",
       "    <tr>\n",
       "      <th>SURTIDOR / DISPENSERMEDIDORVALVULA DE RETENCIÒN</th>\n",
       "      <td>0.000043</td>\n",
       "    </tr>\n",
       "    <tr>\n",
       "      <th>SURTIDOR / DISPENSERCABEZALCABLES ELECTRICOS</th>\n",
       "      <td>0.000043</td>\n",
       "    </tr>\n",
       "    <tr>\n",
       "      <th>SURTIDOR / DISPENSERCONTROL FLUJOTOTALIZADOR</th>\n",
       "      <td>0.000043</td>\n",
       "    </tr>\n",
       "  </tbody>\n",
       "</table>\n",
       "<p>66 rows × 1 columns</p>\n",
       "</div>"
      ],
      "text/plain": [
       "                                                    Tipo de Falla\n",
       "OTROOTRO                                                 0.437269\n",
       "SURTIDOR / DISPENSERACCESORIOS & FILTROSOTROS            0.152808\n",
       "PROGRAMA MANTENCIÓN PREVENTIVASURTIDORES / ESTA...       0.148121\n",
       "SURTIDOR / DISPENSERCABEZALOTROS                         0.068149\n",
       "SURTIDOR / DISPENSERACCESORIOS & FILTROSPISTOLA          0.038954\n",
       "...                                                           ...\n",
       "SURTIDOR / DISPENSERELEMENTOSRETRACTIL                   0.000043\n",
       "SURTIDOR / DISPENSERCONTROL FLUJOVALVULA SOLENO...       0.000043\n",
       "SURTIDOR / DISPENSERMEDIDORVALVULA DE RETENCIÒN          0.000043\n",
       "SURTIDOR / DISPENSERCABEZALCABLES ELECTRICOS             0.000043\n",
       "SURTIDOR / DISPENSERCONTROL FLUJOTOTALIZADOR             0.000043\n",
       "\n",
       "[66 rows x 1 columns]"
      ]
     },
     "execution_count": 177,
     "metadata": {},
     "output_type": "execute_result"
    }
   ],
   "source": [
    "# Checking the proportion of Tipo de Falla (Type of Failure) again \n",
    "pd.DataFrame(df2['Tipo de Falla'].value_counts()/ df2['Tipo de Falla'].shape[0])"
   ]
  },
  {
   "cell_type": "markdown",
   "metadata": {},
   "source": [
    "Even though there are 66 types of failures, almost 50% of the data is labeled as OTROOTRO, which means \"Other\". If we want to extract real information about the issues behind each work order (OT), we need to analyze another columns.\n",
    "\n",
    "Checking the data frame, there are two unstructured text columns which contain the details of each OT. Those are \"Observación\" and \"Requerimiento\""
   ]
  },
  {
   "cell_type": "code",
   "execution_count": 178,
   "metadata": {},
   "outputs": [
    {
     "data": {
      "text/plain": [
       "'Cambio de destorcedor de 1\" a boca n°2 de P. Diesel por estar con filtración. ( uso).\\nCambio de pistola de 1\" a boca n° 2 de P. Diesel por no cortar se sor automático. ( uso).\\nEquipo queda operativo.  Cambio de destorcedor de 1\" a boca n°2 de P. Diesel por estar con filtración. ( uso).\\nCambio de pistola de 1\" a boca n° 2 de P. Diesel por no cortar se sor automático. ( uso).\\nEquipo queda operativo.'"
      ]
     },
     "execution_count": 178,
     "metadata": {},
     "output_type": "execute_result"
    }
   ],
   "source": [
    "# Observaciones - Observations\n",
    "df2['Observación'][250]"
   ]
  },
  {
   "cell_type": "code",
   "execution_count": 179,
   "metadata": {},
   "outputs": [
    {
     "data": {
      "text/plain": [
       "'Area de Atención : Filtracion de combustible Solicitado por: Ximena Soto Fono: 33216340'"
      ]
     },
     "execution_count": 179,
     "metadata": {},
     "output_type": "execute_result"
    }
   ],
   "source": [
    "# Requerimientos - Requirement \n",
    "df2['Requerimiento'][250]"
   ]
  },
  {
   "cell_type": "code",
   "execution_count": 180,
   "metadata": {},
   "outputs": [
    {
     "data": {
      "text/plain": [
       "Observación      0.060968\n",
       "Requerimiento    0.000000\n",
       "dtype: float64"
      ]
     },
     "execution_count": 180,
     "metadata": {},
     "output_type": "execute_result"
    }
   ],
   "source": [
    "# Checking nulls again\n",
    "df2[['Observación', 'Requerimiento']].isnull().mean()"
   ]
  },
  {
   "cell_type": "code",
   "execution_count": 181,
   "metadata": {},
   "outputs": [
    {
     "name": "stdout",
     "output_type": "stream",
     "text": [
      "Avg length of Obs: 315.93885974718376\n",
      "Avg length of Req: 87.62107661879783\n"
     ]
    }
   ],
   "source": [
    "# Checking the length of each of these two unstructured text columns \n",
    "print(f\"Avg length of Obs: {(np.mean(df2['Observación'].apply(str).apply(len)))}\")\n",
    "print(f\"Avg length of Req: {(np.mean(df2['Requerimiento'].apply(str).apply(len)))}\")"
   ]
  },
  {
   "cell_type": "markdown",
   "metadata": {},
   "source": [
    "To find the most common types of failures, only the **\"Observación\"** column will be analyzed, since its average row length is greater than \"Requerimiento\" column and because it is the one written by the technicians at the end of their work, so it contains more detail of the work done."
   ]
  },
  {
   "cell_type": "code",
   "execution_count": 182,
   "metadata": {},
   "outputs": [],
   "source": [
    "# Creating a function to clean text\n",
    "\n",
    "def word_cleaner(sent):\n",
    "    import string,re\n",
    "    from unidecode import unidecode\n",
    "    text = str(sent).lower() \n",
    "    text = re.sub('\\d+-\\d+-\\d+','',text)    # Delete dates DD-MM-YYYY y D-M-YY\n",
    "    text = re.sub('\\d+/\\d+/\\d+','',text)    # Delete dates DD/MM/YYYY y D/M/YY\n",
    "    text = re.sub('\\d+:\\d+', '', text)      # Delete time HH:MM \n",
    "    text = re.sub('\\S*@\\S*\\s?','',text)     # Delete emails\n",
    "    text = re.sub(r'\\d{7,9}','', text)      # Delete phone numbers\n",
    "    text = re.sub('\\[.*?¿!¡\\]\\%', '', text)   # Delete .*?¿!¡\\°\n",
    "    text = re.sub('[%s]' % re.escape(string.punctuation), '', text)  # Delete extra punctuation\n",
    "    text = re.sub('[%s]' % re.escape('°'), ' ', text)\n",
    "    text = re.sub('[‘’“”…«»/]', '', text)   # Delete extra punctuation\n",
    "    text = unidecode(text)                  # Text to unicode (ñ -> n)\n",
    "    text = re.sub('\\n', ' ', text)          # Delete line breaks\n",
    "    text = re.sub(r'\\s{2,}', ' ', text)     # Delete two or more blank spaces\n",
    "    text = re.sub(r\"^\\s+\", \"\", text, flags=re.UNICODE)      # Delete two or more blank spaces at beggining\n",
    "    text = re.sub(\"^\\s+|\\s+$\", \"\", text, flags=re.UNICODE)  # Delete two or more blank spaces at ending \n",
    "    return text "
   ]
  },
  {
   "cell_type": "code",
   "execution_count": 183,
   "metadata": {},
   "outputs": [
    {
     "name": "stdout",
     "output_type": "stream",
     "text": [
      "Cambio de destorcedor de 1\" a boca n°2 de P. Diesel por estar con filtración. ( uso).\n",
      "Cambio de pistola de 1\" a boca n° 2 de P. Diesel por no cortar se sor automático. ( uso).\n",
      "Equipo queda operativo.  Cambio de destorcedor de 1\" a boca n°2 de P. Diesel por estar con filtración. ( uso).\n",
      "Cambio de pistola de 1\" a boca n° 2 de P. Diesel por no cortar se sor automático. ( uso).\n",
      "Equipo queda operativo.\n"
     ]
    }
   ],
   "source": [
    "print('Cambio de destorcedor de 1\" a boca n°2 de P. Diesel por estar con filtración. ( uso).\\nCambio de pistola de 1\" a boca n° 2 de P. Diesel por no cortar se sor automático. ( uso).\\nEquipo queda operativo.  Cambio de destorcedor de 1\" a boca n°2 de P. Diesel por estar con filtración. ( uso).\\nCambio de pistola de 1\" a boca n° 2 de P. Diesel por no cortar se sor automático. ( uso).\\nEquipo queda operativo.')"
   ]
  },
  {
   "cell_type": "code",
   "execution_count": 184,
   "metadata": {},
   "outputs": [
    {
     "data": {
      "text/plain": [
       "'cambio de destorcedor de 1 a boca n 2 de p diesel por estar con filtracion uso cambio de pistola de 1 a boca n 2 de p diesel por no cortar se sor automatico uso equipo queda operativo cambio de destorcedor de 1 a boca n 2 de p diesel por estar con filtracion uso cambio de pistola de 1 a boca n 2 de p diesel por no cortar se sor automatico uso equipo queda operativo'"
      ]
     },
     "execution_count": 184,
     "metadata": {},
     "output_type": "execute_result"
    }
   ],
   "source": [
    "word_cleaner('Cambio de destorcedor de 1\" a boca n°2 de P. Diesel por estar con filtración. ( uso).\\nCambio de pistola de 1\" a boca n° 2 de P. Diesel por no cortar se sor automático. ( uso).\\nEquipo queda operativo.  Cambio de destorcedor de 1\" a boca n°2 de P. Diesel por estar con filtración. ( uso).\\nCambio de pistola de 1\" a boca n° 2 de P. Diesel por no cortar se sor automático. ( uso).\\nEquipo queda operativo.')"
   ]
  },
  {
   "cell_type": "code",
   "execution_count": 185,
   "metadata": {},
   "outputs": [],
   "source": [
    "# Creating a new DF based on this new function word_cleaner()\n",
    "\n",
    "df3 = df2.copy()\n",
    "for col in ['Observación','Requerimiento','Estacion','Tecnico Asignado','Técnico Cierre']:\n",
    "    df3[col] = df3[col].apply(word_cleaner)"
   ]
  },
  {
   "cell_type": "code",
   "execution_count": 186,
   "metadata": {},
   "outputs": [
    {
     "data": {
      "text/html": [
       "<div>\n",
       "<style scoped>\n",
       "    .dataframe tbody tr th:only-of-type {\n",
       "        vertical-align: middle;\n",
       "    }\n",
       "\n",
       "    .dataframe tbody tr th {\n",
       "        vertical-align: top;\n",
       "    }\n",
       "\n",
       "    .dataframe thead th {\n",
       "        text-align: right;\n",
       "    }\n",
       "</style>\n",
       "<table border=\"1\" class=\"dataframe\">\n",
       "  <thead>\n",
       "    <tr style=\"text-align: right;\">\n",
       "      <th></th>\n",
       "      <th>Observación</th>\n",
       "      <th>Requerimiento</th>\n",
       "    </tr>\n",
       "  </thead>\n",
       "  <tbody>\n",
       "    <tr>\n",
       "      <th>0</th>\n",
       "      <td>nan</td>\n",
       "      <td>area de atencion surtidor no marca correctamen...</td>\n",
       "    </tr>\n",
       "    <tr>\n",
       "      <th>1</th>\n",
       "      <td>nan</td>\n",
       "      <td>area de atencion tanques enterrados no cuentan...</td>\n",
       "    </tr>\n",
       "    <tr>\n",
       "      <th>2</th>\n",
       "      <td>se cambia placa de tk 2 gas95 por placa que in...</td>\n",
       "      <td>area de atencion habilitar estanque de combust...</td>\n",
       "    </tr>\n",
       "    <tr>\n",
       "      <th>3</th>\n",
       "      <td>nan</td>\n",
       "      <td>area de atencion sin diesel solicitado por jmz...</td>\n",
       "    </tr>\n",
       "    <tr>\n",
       "      <th>4</th>\n",
       "      <td>nan</td>\n",
       "      <td>area de atencion pislota manquera cortada soli...</td>\n",
       "    </tr>\n",
       "  </tbody>\n",
       "</table>\n",
       "</div>"
      ],
      "text/plain": [
       "                                         Observación  \\\n",
       "0                                                nan   \n",
       "1                                                nan   \n",
       "2  se cambia placa de tk 2 gas95 por placa que in...   \n",
       "3                                                nan   \n",
       "4                                                nan   \n",
       "\n",
       "                                       Requerimiento  \n",
       "0  area de atencion surtidor no marca correctamen...  \n",
       "1  area de atencion tanques enterrados no cuentan...  \n",
       "2  area de atencion habilitar estanque de combust...  \n",
       "3  area de atencion sin diesel solicitado por jmz...  \n",
       "4  area de atencion pislota manquera cortada soli...  "
      ]
     },
     "execution_count": 186,
     "metadata": {},
     "output_type": "execute_result"
    }
   ],
   "source": [
    "df3[['Observación','Requerimiento']].head()"
   ]
  },
  {
   "cell_type": "code",
   "execution_count": 187,
   "metadata": {},
   "outputs": [
    {
     "data": {
      "text/html": [
       "<div>\n",
       "<style scoped>\n",
       "    .dataframe tbody tr th:only-of-type {\n",
       "        vertical-align: middle;\n",
       "    }\n",
       "\n",
       "    .dataframe tbody tr th {\n",
       "        vertical-align: top;\n",
       "    }\n",
       "\n",
       "    .dataframe thead th {\n",
       "        text-align: right;\n",
       "    }\n",
       "</style>\n",
       "<table border=\"1\" class=\"dataframe\">\n",
       "  <thead>\n",
       "    <tr style=\"text-align: right;\">\n",
       "      <th></th>\n",
       "      <th>Observación</th>\n",
       "      <th>Requerimiento</th>\n",
       "      <th>TEXT_DETAIL</th>\n",
       "    </tr>\n",
       "  </thead>\n",
       "  <tbody>\n",
       "    <tr>\n",
       "      <th>0</th>\n",
       "      <td>nan</td>\n",
       "      <td>area de atencion surtidor no marca correctamen...</td>\n",
       "      <td>area de atencion surtidor no marca correctamen...</td>\n",
       "    </tr>\n",
       "    <tr>\n",
       "      <th>1</th>\n",
       "      <td>nan</td>\n",
       "      <td>area de atencion tanques enterrados no cuentan...</td>\n",
       "      <td>area de atencion tanques enterrados no cuentan...</td>\n",
       "    </tr>\n",
       "    <tr>\n",
       "      <th>2</th>\n",
       "      <td>se cambia placa de tk 2 gas95 por placa que in...</td>\n",
       "      <td>area de atencion habilitar estanque de combust...</td>\n",
       "      <td>se cambia placa de tk 2 gas95 por placa que in...</td>\n",
       "    </tr>\n",
       "    <tr>\n",
       "      <th>3</th>\n",
       "      <td>nan</td>\n",
       "      <td>area de atencion sin diesel solicitado por jmz...</td>\n",
       "      <td>area de atencion sin diesel solicitado por jmz...</td>\n",
       "    </tr>\n",
       "    <tr>\n",
       "      <th>4</th>\n",
       "      <td>nan</td>\n",
       "      <td>area de atencion pislota manquera cortada soli...</td>\n",
       "      <td>area de atencion pislota manquera cortada soli...</td>\n",
       "    </tr>\n",
       "  </tbody>\n",
       "</table>\n",
       "</div>"
      ],
      "text/plain": [
       "                                         Observación  \\\n",
       "0                                                nan   \n",
       "1                                                nan   \n",
       "2  se cambia placa de tk 2 gas95 por placa que in...   \n",
       "3                                                nan   \n",
       "4                                                nan   \n",
       "\n",
       "                                       Requerimiento  \\\n",
       "0  area de atencion surtidor no marca correctamen...   \n",
       "1  area de atencion tanques enterrados no cuentan...   \n",
       "2  area de atencion habilitar estanque de combust...   \n",
       "3  area de atencion sin diesel solicitado por jmz...   \n",
       "4  area de atencion pislota manquera cortada soli...   \n",
       "\n",
       "                                         TEXT_DETAIL  \n",
       "0  area de atencion surtidor no marca correctamen...  \n",
       "1  area de atencion tanques enterrados no cuentan...  \n",
       "2  se cambia placa de tk 2 gas95 por placa que in...  \n",
       "3  area de atencion sin diesel solicitado por jmz...  \n",
       "4  area de atencion pislota manquera cortada soli...  "
      ]
     },
     "execution_count": 187,
     "metadata": {},
     "output_type": "execute_result"
    }
   ],
   "source": [
    "# Dealing with 'nan'/nulls and mixing both unstructured text columns into one\n",
    "\n",
    "df3['TEXT_DETAIL'] = np.where(df3['Observación'] != 'nan', df3['Observación'], df3['Requerimiento'])\n",
    "df3[['Observación','Requerimiento','TEXT_DETAIL']].head()"
   ]
  },
  {
   "cell_type": "code",
   "execution_count": 188,
   "metadata": {},
   "outputs": [
    {
     "name": "stdout",
     "output_type": "stream",
     "text": [
      "Observación: 1418\n",
      "Requerimiento: 0\n",
      "TEXT_DETAIL: 0\n"
     ]
    }
   ],
   "source": [
    "# Checking nulls again\n",
    "print(f\"Observación: {df3['Observación'][df3['Observación'] == 'nan'].count()}\")\n",
    "print(f\"Requerimiento: {df3['Requerimiento'][df3['Requerimiento'] == 'nan'].count()}\")\n",
    "print(f\"TEXT_DETAIL: {df3['TEXT_DETAIL'][df3['TEXT_DETAIL'] == 'nan'].count()}\")"
   ]
  },
  {
   "cell_type": "markdown",
   "metadata": {},
   "source": [
    "Because it is really har to get full knowledge by checking manual all the rows, the unsupervised learning algorithm LDA will be used to extract information from unstructured text. \n",
    "\n",
    "This will be done in the SECOND NOTEBOOK, where we will continue applying the CRISP-DM methodology, in this case steps number 4 and 5 which are modeling and evaluating.\n",
    "\n",
    "To get a better quality results from the model, we will use the TEXT_DETAIL column, the one we created in the above df3 dataframe. For that reaso we will save the table in a pkl file its show below "
   ]
  },
  {
   "cell_type": "code",
   "execution_count": 189,
   "metadata": {},
   "outputs": [],
   "source": [
    "# Exporting df3 into a pkl file\n",
    "df3.to_pickle('df_clean.pkl')"
   ]
  },
  {
   "cell_type": "code",
   "execution_count": 190,
   "metadata": {},
   "outputs": [
    {
     "data": {
      "text/html": [
       "<div>\n",
       "<style scoped>\n",
       "    .dataframe tbody tr th:only-of-type {\n",
       "        vertical-align: middle;\n",
       "    }\n",
       "\n",
       "    .dataframe tbody tr th {\n",
       "        vertical-align: top;\n",
       "    }\n",
       "\n",
       "    .dataframe thead th {\n",
       "        text-align: right;\n",
       "    }\n",
       "</style>\n",
       "<table border=\"1\" class=\"dataframe\">\n",
       "  <thead>\n",
       "    <tr style=\"text-align: right;\">\n",
       "      <th></th>\n",
       "      <th>Recepción OT</th>\n",
       "      <th>Hora Recep.</th>\n",
       "      <th>OT</th>\n",
       "      <th>Estacion</th>\n",
       "      <th>Tipo Estación</th>\n",
       "      <th>Ubicación Técnica</th>\n",
       "      <th>Origen del Servicio</th>\n",
       "      <th>Region</th>\n",
       "      <th>Prioridad SGS</th>\n",
       "      <th>Prioridad Cliente</th>\n",
       "      <th>...</th>\n",
       "      <th>Departure</th>\n",
       "      <th>Day</th>\n",
       "      <th>N Day</th>\n",
       "      <th>Month</th>\n",
       "      <th>Hour</th>\n",
       "      <th>Time Reception/Arrival</th>\n",
       "      <th>Time Arrival/Departure</th>\n",
       "      <th>Interval Recep/Arrival</th>\n",
       "      <th>Interval Arrival/Landing</th>\n",
       "      <th>TEXT_DETAIL</th>\n",
       "    </tr>\n",
       "  </thead>\n",
       "  <tbody>\n",
       "    <tr>\n",
       "      <th>0</th>\n",
       "      <td>2019-08-30</td>\n",
       "      <td>2021-05-04 17:18:00</td>\n",
       "      <td>3008190033</td>\n",
       "      <td>buses metropolitana</td>\n",
       "      <td>PUNTO INDUSTRIAL</td>\n",
       "      <td>2256194</td>\n",
       "      <td>Contrato Fuel System Enex</td>\n",
       "      <td>13°</td>\n",
       "      <td>Normal 24 Horas</td>\n",
       "      <td>Normal 24 Horas</td>\n",
       "      <td>...</td>\n",
       "      <td>NaT</td>\n",
       "      <td>Friday</td>\n",
       "      <td>30</td>\n",
       "      <td>AUG 19</td>\n",
       "      <td>17</td>\n",
       "      <td>NaN</td>\n",
       "      <td>NaN</td>\n",
       "      <td>Date Error</td>\n",
       "      <td>Time Error</td>\n",
       "      <td>area de atencion surtidor no marca correctamen...</td>\n",
       "    </tr>\n",
       "    <tr>\n",
       "      <th>1</th>\n",
       "      <td>2019-08-30</td>\n",
       "      <td>2021-05-04 17:17:00</td>\n",
       "      <td>3008190024</td>\n",
       "      <td>inversiones ingeriasur ltda</td>\n",
       "      <td>ESTACION DE SERVICIO</td>\n",
       "      <td>359</td>\n",
       "      <td>Contrato Fuel System Enex</td>\n",
       "      <td>9°</td>\n",
       "      <td>Normal 24 Horas</td>\n",
       "      <td>Normal 24 Horas</td>\n",
       "      <td>...</td>\n",
       "      <td>NaT</td>\n",
       "      <td>Friday</td>\n",
       "      <td>30</td>\n",
       "      <td>AUG 19</td>\n",
       "      <td>17</td>\n",
       "      <td>NaN</td>\n",
       "      <td>NaN</td>\n",
       "      <td>Date Error</td>\n",
       "      <td>Time Error</td>\n",
       "      <td>area de atencion tanques enterrados no cuentan...</td>\n",
       "    </tr>\n",
       "    <tr>\n",
       "      <th>2</th>\n",
       "      <td>2019-08-30</td>\n",
       "      <td>2021-05-04 16:52:00</td>\n",
       "      <td>2606190074</td>\n",
       "      <td>tingaro spa</td>\n",
       "      <td>ESTACION DE SERVICIO</td>\n",
       "      <td>553</td>\n",
       "      <td>Contrato Fuel System Enex</td>\n",
       "      <td>13°</td>\n",
       "      <td>Normal 48 Horas</td>\n",
       "      <td>Normal 48 Horas</td>\n",
       "      <td>...</td>\n",
       "      <td>2019-08-28 17:00:00</td>\n",
       "      <td>Friday</td>\n",
       "      <td>30</td>\n",
       "      <td>AUG 19</td>\n",
       "      <td>16</td>\n",
       "      <td>-65.0</td>\n",
       "      <td>1496.0</td>\n",
       "      <td>Date Error</td>\n",
       "      <td>+ 1 month</td>\n",
       "      <td>se cambia placa de tk 2 gas95 por placa que in...</td>\n",
       "    </tr>\n",
       "    <tr>\n",
       "      <th>3</th>\n",
       "      <td>2019-08-30</td>\n",
       "      <td>2021-05-04 16:49:00</td>\n",
       "      <td>3008190043</td>\n",
       "      <td>inversiones global limitada</td>\n",
       "      <td>ESTACION DE SERVICIO</td>\n",
       "      <td>660</td>\n",
       "      <td>Contrato Fuel System Enex</td>\n",
       "      <td>9°</td>\n",
       "      <td>Normal 24 Horas</td>\n",
       "      <td>Normal 24 Horas</td>\n",
       "      <td>...</td>\n",
       "      <td>NaT</td>\n",
       "      <td>Friday</td>\n",
       "      <td>30</td>\n",
       "      <td>AUG 19</td>\n",
       "      <td>16</td>\n",
       "      <td>NaN</td>\n",
       "      <td>NaN</td>\n",
       "      <td>Date Error</td>\n",
       "      <td>Time Error</td>\n",
       "      <td>area de atencion sin diesel solicitado por jmz...</td>\n",
       "    </tr>\n",
       "    <tr>\n",
       "      <th>4</th>\n",
       "      <td>2019-08-30</td>\n",
       "      <td>2021-05-04 16:48:00</td>\n",
       "      <td>2908190028</td>\n",
       "      <td>comercial antuco ltda</td>\n",
       "      <td>ESTACION DE SERVICIO</td>\n",
       "      <td>680</td>\n",
       "      <td>Contrato Fuel System Enex</td>\n",
       "      <td>5°</td>\n",
       "      <td>Normal 24 Horas</td>\n",
       "      <td>Normal 24 Horas</td>\n",
       "      <td>...</td>\n",
       "      <td>NaT</td>\n",
       "      <td>Friday</td>\n",
       "      <td>30</td>\n",
       "      <td>AUG 19</td>\n",
       "      <td>16</td>\n",
       "      <td>-2.0</td>\n",
       "      <td>NaN</td>\n",
       "      <td>Date Error</td>\n",
       "      <td>Time Error</td>\n",
       "      <td>area de atencion pislota manquera cortada soli...</td>\n",
       "    </tr>\n",
       "  </tbody>\n",
       "</table>\n",
       "<p>5 rows × 46 columns</p>\n",
       "</div>"
      ],
      "text/plain": [
       "  Recepción OT         Hora Recep.          OT                     Estacion  \\\n",
       "0   2019-08-30 2021-05-04 17:18:00  3008190033          buses metropolitana   \n",
       "1   2019-08-30 2021-05-04 17:17:00  3008190024  inversiones ingeriasur ltda   \n",
       "2   2019-08-30 2021-05-04 16:52:00  2606190074                  tingaro spa   \n",
       "3   2019-08-30 2021-05-04 16:49:00  3008190043  inversiones global limitada   \n",
       "4   2019-08-30 2021-05-04 16:48:00  2908190028        comercial antuco ltda   \n",
       "\n",
       "          Tipo Estación Ubicación Técnica        Origen del Servicio Region  \\\n",
       "0      PUNTO INDUSTRIAL           2256194  Contrato Fuel System Enex    13°   \n",
       "1  ESTACION DE SERVICIO               359  Contrato Fuel System Enex     9°   \n",
       "2  ESTACION DE SERVICIO               553  Contrato Fuel System Enex    13°   \n",
       "3  ESTACION DE SERVICIO               660  Contrato Fuel System Enex     9°   \n",
       "4  ESTACION DE SERVICIO               680  Contrato Fuel System Enex     5°   \n",
       "\n",
       "     Prioridad SGS Prioridad Cliente  ...           Departure     Day N Day  \\\n",
       "0  Normal 24 Horas   Normal 24 Horas  ...                 NaT  Friday    30   \n",
       "1  Normal 24 Horas   Normal 24 Horas  ...                 NaT  Friday    30   \n",
       "2  Normal 48 Horas   Normal 48 Horas  ... 2019-08-28 17:00:00  Friday    30   \n",
       "3  Normal 24 Horas   Normal 24 Horas  ...                 NaT  Friday    30   \n",
       "4  Normal 24 Horas   Normal 24 Horas  ...                 NaT  Friday    30   \n",
       "\n",
       "    Month Hour Time Reception/Arrival Time Arrival/Departure  \\\n",
       "0  AUG 19   17                    NaN                    NaN   \n",
       "1  AUG 19   17                    NaN                    NaN   \n",
       "2  AUG 19   16                  -65.0                 1496.0   \n",
       "3  AUG 19   16                    NaN                    NaN   \n",
       "4  AUG 19   16                   -2.0                    NaN   \n",
       "\n",
       "   Interval Recep/Arrival  Interval Arrival/Landing  \\\n",
       "0              Date Error                Time Error   \n",
       "1              Date Error                Time Error   \n",
       "2              Date Error                 + 1 month   \n",
       "3              Date Error                Time Error   \n",
       "4              Date Error                Time Error   \n",
       "\n",
       "                                         TEXT_DETAIL  \n",
       "0  area de atencion surtidor no marca correctamen...  \n",
       "1  area de atencion tanques enterrados no cuentan...  \n",
       "2  se cambia placa de tk 2 gas95 por placa que in...  \n",
       "3  area de atencion sin diesel solicitado por jmz...  \n",
       "4  area de atencion pislota manquera cortada soli...  \n",
       "\n",
       "[5 rows x 46 columns]"
      ]
     },
     "execution_count": 190,
     "metadata": {},
     "output_type": "execute_result"
    }
   ],
   "source": [
    "pd.read_pickle('df_clean.pkl').head()"
   ]
  },
  {
   "cell_type": "markdown",
   "metadata": {},
   "source": [
    "**Next: Notebook N°2 - LDA AND TOPIC MODELING**"
   ]
  },
  {
   "cell_type": "code",
   "execution_count": null,
   "metadata": {},
   "outputs": [],
   "source": []
  }
 ],
 "metadata": {
  "kernelspec": {
   "display_name": "Python 3",
   "language": "python",
   "name": "python3"
  },
  "language_info": {
   "codemirror_mode": {
    "name": "ipython",
    "version": 3
   },
   "file_extension": ".py",
   "mimetype": "text/x-python",
   "name": "python",
   "nbconvert_exporter": "python",
   "pygments_lexer": "ipython3",
   "version": "3.8.3"
  },
  "toc": {
   "base_numbering": 1,
   "nav_menu": {},
   "number_sections": false,
   "sideBar": true,
   "skip_h1_title": false,
   "title_cell": "Table of Contents",
   "title_sidebar": "Contenido",
   "toc_cell": false,
   "toc_position": {
    "height": "calc(100% - 180px)",
    "left": "10px",
    "top": "150px",
    "width": "307.2px"
   },
   "toc_section_display": true,
   "toc_window_display": true
  }
 },
 "nbformat": 4,
 "nbformat_minor": 2
}
